{
  "cells": [
    {
      "cell_type": "markdown",
      "metadata": {
        "id": "dP_Ss90c6WyS"
      },
      "source": [
        "# Script Web Scrapping"
      ]
    },
    {
      "cell_type": "code",
      "execution_count": null,
      "metadata": {
        "id": "yxAREX6ewm1H"
      },
      "outputs": [],
      "source": [
        "import requests as rq\n",
        "import json\n",
        "import pandas as pd\n",
        "import numpy as np\n",
        "from bs4 import BeautifulSoup\n",
        "import math\n",
        "from concurrent.futures import ThreadPoolExecutor, as_completed"
      ]
    },
    {
      "cell_type": "code",
      "execution_count": null,
      "metadata": {
        "id": "Czy7n55b6T5L"
      },
      "outputs": [],
      "source": [
        "# import requests as rq\n",
        "# import json\n",
        "# import pandas as pd\n",
        "\n",
        "# def web_scraping_csv():\n",
        "#   user_agent = 'Mozilla/5.0 (Macintosh; Intel Mac OS X 10_9_3) AppleWebKit/537.36 (KHTML, like Gecko) Chrome/35.0.1916.47 Safari/537.36'\n",
        "#   headers = {'User-Agent': user_agent}\n",
        "#   total_amount_items = 50000\n",
        "#   amout_items_per_page = 100\n",
        "#   pages = 102 # change this value\n",
        "#   init_page = pages\n",
        "#   dfs = {}\n",
        "#   for i in range(1, int(total_amount_items / amout_items_per_page) + 1):\n",
        "#     url = 'https://www.zapimoveis.com.br/venda/?pagina=' + str(pages) + '&tipo=Imóvel%20usado&transacao=Venda'\n",
        "#     response = rq.get(url,headers=headers)\n",
        "#     response_status = response.status_code\n",
        "#     if response_status == 200:\n",
        "#       data = response.text\n",
        "#       data = str(data)\n",
        "\n",
        "#       data = data.split('\"results\":{\"listings\":[',1)[1]\n",
        "#       data = data.split('],\"nearbyListings\":[]',1)[0]\n",
        "#       data = data.split(',\"type\":\"nearby\"}]',1)[0]\n",
        "\n",
        "#       if data[-2:] == '}}':\n",
        "#         data_formated = '{\"listings\":[' + data + ']}'\n",
        "#       elif data[-10:] == '\"premium\"}':\n",
        "#         data = data.split(',\"type\":\"premium\"}',1)[0]\n",
        "#         data_formated = '{\"listings\":[' + data + '}]}'\n",
        "#       else:\n",
        "#         data_formated = '{\"listings\":[' + data + '}]}'\n",
        "\n",
        "#       data_formated = data_formated.replace('R$ ','')\n",
        "#       data_formated = data_formated.replace(',\"superPremiumListings\":[}]}','}')\n",
        "#       data_formated = data_formated.split(';(function',1)[0]\n",
        "#       data_formated = data_formated.split(',\"advertisers\"',1)[0]\n",
        "\n",
        "#       data_formated_json = json.loads(data_formated)\n",
        "\n",
        "#       df = pd.json_normalize(data_formated_json['listings'])\n",
        "\n",
        "#       # df = df[['type', 'account.name', 'link.data.state', 'link.data.city', 'link.data.zone', 'link.name','listing.usableAreas',\n",
        "#       #          'listing.totalAreas','listing.title','listing.description','listing.floors','listing.parkingSpaces','listing.suites',\n",
        "#       #          'listing.bathrooms','listing.bedrooms','listing.pricingInfo.salePrice','listing.pricingInfo.yearlyIptu',\n",
        "#       #          'listing.pricingInfo.monthlyCondoFee','listing.publicationType','listing.unitTypes','listing.unitSubTypes',\n",
        "#       #          'listing.usageTypes','listing.amenities']]\n",
        "\n",
        "#       df['listing.pool'] = df['listing.amenities'].map(lambda x: 'True' if 'POOL' in x else 'False')\n",
        "#       df['listing.sauna'] = df['listing.amenities'].map(lambda x: 'True' if 'SAUNA' in x else 'False')\n",
        "#       df['listing.backyard'] = df['listing.amenities'].map(lambda x: 'True' if 'BACKYARD' in x else 'False')\n",
        "#       df['listing.garden'] = df['listing.amenities'].map(lambda x: 'True' if 'GARDEN' in x else 'False')\n",
        "#       df['listing.barbgrill'] = df['listing.amenities'].map(lambda x: 'True' if 'BARBECUE_GRILL' in x else 'False')\n",
        "#       df['listing.partyhall'] = df['listing.amenities'].map(lambda x: 'True' if 'PARTY_HALL' in x else 'False')\n",
        "#       df['listing.tenniscourt'] = df['listing.amenities'].map(lambda x: 'True' if 'TENNIS_COURT' in x else 'False')\n",
        "#       df['listing.sportcourt'] = df['listing.amenities'].map(lambda x: 'True' if 'SPORTS_COURT' in x else 'False')\n",
        "#       df['listing.bathtub'] = df['listing.amenities'].map(lambda x: 'True' if 'BATHTUB' in x else 'False')\n",
        "#       df['listing.soundproofing'] = df['listing.amenities'].map(lambda x: 'True' if 'SOUNDPROOFING' in x else 'False')\n",
        "#       df['listing.fireplace'] = df['listing.amenities'].map(lambda x: 'True' if 'FIREPLACE' in x else 'False')\n",
        "#       df['listing.gym'] = df['listing.amenities'].map(lambda x: 'True' if 'GYM' in x else 'False')\n",
        "#       df['listing.hottub'] = df['listing.amenities'].map(lambda x: 'True' if 'HOT_TUB' in x else 'False')\n",
        "#       df['listing.furnished'] = df['listing.amenities'].map(lambda x: 'True' if 'FURNISHED' in x else 'False')\n",
        "#       df['listing.guestpark'] = df['listing.amenities'].map(lambda x: 'True' if 'GUEST_PARKING' in x else 'False')\n",
        "#       df['listing.playground'] = df['listing.amenities'].map(lambda x: 'True' if 'PLAYGROUND' in x else 'False')\n",
        "#       df['listing.mountainview'] = df['listing.amenities'].map(lambda x: 'True' if 'MOUNTAIN_VIEW' in x else 'False')\n",
        "\n",
        "#       df['listing.floors'] = df['listing.floors'].map(lambda x: '' if len(x) == 0 else x[0])\n",
        "#       df['listing.unitTypes'] = df['listing.unitTypes'].map(lambda x: '' if len(x) == 0 else x[0])\n",
        "#       df['listing.unitSubTypes'] = df['listing.unitSubTypes'].map(lambda x: '' if len(x) == 0 else x[0])\n",
        "#       df['listing.parkingSpaces'] = df['listing.parkingSpaces'].map(lambda x: '' if len(x) == 0 else x[0])\n",
        "#       df['listing.suites'] = df['listing.suites'].map(lambda x: '' if len(x) == 0 else x[0])\n",
        "#       df['listing.bathrooms'] = df['listing.bathrooms'].map(lambda x: '' if len(x) == 0 else x[0])\n",
        "#       df['listing.usageTypes'] = df['listing.usageTypes'].map(lambda x: '' if len(x) == 0 else x[0])\n",
        "#       df['listing.totalAreas'] = df['listing.totalAreas'].map(lambda x: '' if len(x) == 0 else x[0])\n",
        "#       df['listing.bedrooms'] = df['listing.bedrooms'].map(lambda x: '' if len(x) == 0 else x[0])\n",
        "#       df['listing.usableAreas'] = df['listing.usableAreas'].map(lambda x: '' if len(x) == 0 else x[0])\n",
        "#       df['listing.stamps'] = df['listing.stamps'].map(lambda x: '' if len(x) == 0 else x[0])\n",
        "#       df['listing.address.pois'] = df['listing.address.pois'].map(lambda x: '' if len(x) == 0 else x[0])\n",
        "#       df['listing.address.streetNumber'] = df['listing.address.streetNumber'].map(lambda x: '' if len(x) == 0 else x[0])\n",
        "#       df['listing.videoTour'] = df['listing.videoTour'].map(lambda x: '' if len(x) == 0 else x[0])\n",
        "\n",
        "#       df = df.drop(columns=['listing.amenities'])\n",
        "\n",
        "#       dfs['df_' + str(i)] = df\n",
        "#       pages += 1\n",
        "#     else:\n",
        "#       pages += 1\n",
        "#       print('url: ', url)\n",
        "#       print('\\nstatus: ', response_status)\n",
        "#       break\n",
        "#   dfs_list = []\n",
        "#   for key in dfs.keys():\n",
        "#     dfs_list.append(dfs[key])\n",
        "#   df_zap = pd.concat(dfs_list, sort=False)\n",
        "#   df_zap.to_csv('data_zap_page_' + str(init_page) + '_to_' + str(pages - 1) + '.csv', sep=';', index=False)\n",
        "#   print('\\nArquivo criado!\\n')\n",
        "\n",
        "# web_scraping_csv()"
      ]
    },
    {
      "cell_type": "code",
      "source": [
        "# BASE_URL = 'https://www.zapimoveis.com.br/venda/'\n",
        "\n",
        "# def get_by_page(page, base_url = BASE_URL):\n",
        "#   url = '{}?pagina={}&transacao=Venda'.format(base_url, page)\n",
        "#   USER_AGENT = 'Mozilla/5.0 (Macintosh; Intel Mac OS X 10_9_3) AppleWebKit/537.36 (KHTML, like Gecko) Chrome/35.0.1916.47 Safari/537.36'\n",
        "\n",
        "#   headers = {'User-Agent': USER_AGENT }\n",
        "#   return req.get(url, headers=headers)\n",
        "\n",
        "# def get_response(url):\n",
        "#   USER_AGENT = 'Mozilla/5.0 (Macintosh; Intel Mac OS X 10_9_3) AppleWebKit/537.36 (KHTML, like Gecko) Chrome/35.0.1916.47 Safari/537.36'\n",
        "#   headers = {'User-Agent': USER_AGENT }\n",
        "#   response = req.get(url, headers=headers)\n",
        "\n",
        "#   return [response.status_code, response.text]\n",
        "\n",
        "# def get_urls(begin, end, base_url = BASE_URL):\n",
        "#   urls = []\n",
        "\n",
        "#   for i in range(begin, end+1):\n",
        "#     url = '{}?pagina={}&transacao=Venda'.format(base_url, i)\n",
        "#     urls.append(url)\n",
        "\n",
        "#   return urls\n",
        "\n",
        "# def get_json(response):\n",
        "#   data = response\n",
        "#   data = str(data)\n",
        "#   data = data.split('\"results\":{\"listings\":[',1)[1]\n",
        "#   data = data.split('],\"nearbyListings\":[]',1)[0]\n",
        "#   data = data.split(',\"type\":\"nearby\"}]',1)[0]\n",
        "\n",
        "#   if data[-2:] == '}}':\n",
        "#     data_formated = '{\"listings\":[' + data + ']}'\n",
        "#   elif data[-10:] == '\"premium\"}':\n",
        "#     data = data.split(',\"type\":\"premium\"}',1)[0]\n",
        "#     data_formated = '{\"listings\":[' + data + '}]}'\n",
        "#   else:\n",
        "#     data_formated = '{\"listings\":[' + data + '}]}'\n",
        "\n",
        "#   data_formated = data_formated.replace('R$ ','')\n",
        "#   data_formated = data_formated.replace(',\"superPremiumListings\":[}]}','}')\n",
        "#   data_formated = data_formated.split(';(function',1)[0]\n",
        "#   data_formated = data_formated.split(',\"advertisers\"',1)[0]\n",
        "\n",
        "#   data_formatted = json.loads(data_formated)\n",
        "\n",
        "#   return data_formatted['listings']\n",
        "\n",
        "\n",
        "# def get_dataframe(json):\n",
        "#   dataframe = pd.json_normalize(json)\n",
        "\n",
        "#   keys = ['type', 'account.name', 'link.data.state', 'link.data.city', 'link.data.zone', 'link.name','listing.usableAreas',\n",
        "#       'listing.totalAreas','listing.title','listing.description','listing.floors','listing.parkingSpaces','listing.suites',\n",
        "#       'listing.bathrooms','listing.bedrooms','listing.pricingInfo.salePrice','listing.pricingInfo.yearlyIptu',\n",
        "#       'listing.pricingInfo.monthlyCondoFee','listing.publicationType','listing.unitTypes','listing.unitSubTypes',\n",
        "#       'listing.usageTypes','listing.amenities', 'listing.videoTour', 'listing.address.streetNumber', 'listing.address.point.lon',\n",
        "#       'listing.address.point.lat', 'listing.stamps', 'listing.address.pois']\n",
        "#   dataframe = dataframe[keys]\n",
        "\n",
        "#   dataframe['listing.pool'] = dataframe['listing.amenities'].map(lambda x: 'True' if 'POOL' in x else 'False')\n",
        "#   dataframe['listing.sauna'] = dataframe['listing.amenities'].map(lambda x: 'True' if 'SAUNA' in x else 'False')\n",
        "#   dataframe['listing.backyard'] = dataframe['listing.amenities'].map(lambda x: 'True' if 'BACKYARD' in x else 'False')\n",
        "#   dataframe['listing.garden'] = dataframe['listing.amenities'].map(lambda x: 'True' if 'GARDEN' in x else 'False')\n",
        "#   dataframe['listing.barbgrill'] = dataframe['listing.amenities'].map(lambda x: 'True' if 'BARBECUE_GRILL' in x else 'False')\n",
        "#   dataframe['listing.partyhall'] = dataframe['listing.amenities'].map(lambda x: 'True' if 'PARTY_HALL' in x else 'False')\n",
        "#   dataframe['listing.tenniscourt'] = dataframe['listing.amenities'].map(lambda x: 'True' if 'TENNIS_COURT' in x else 'False')\n",
        "#   dataframe['listing.sportcourt'] = dataframe['listing.amenities'].map(lambda x: 'True' if 'SPORTS_COURT' in x else 'False')\n",
        "#   dataframe['listing.bathtub'] = dataframe['listing.amenities'].map(lambda x: 'True' if 'BATHTUB' in x else 'False')\n",
        "#   dataframe['listing.soundproofing'] = dataframe['listing.amenities'].map(lambda x: 'True' if 'SOUNDPROOFING' in x else 'False')\n",
        "#   dataframe['listing.fireplace'] = dataframe['listing.amenities'].map(lambda x: 'True' if 'FIREPLACE' in x else 'False')\n",
        "#   dataframe['listing.gym'] = dataframe['listing.amenities'].map(lambda x: 'True' if 'GYM' in x else 'False')\n",
        "#   dataframe['listing.hottub'] = dataframe['listing.amenities'].map(lambda x: 'True' if 'HOT_TUB' in x else 'False')\n",
        "#   dataframe['listing.furnished'] = dataframe['listing.amenities'].map(lambda x: 'True' if 'FURNISHED' in x else 'False')\n",
        "#   dataframe['listing.guestpark'] = dataframe['listing.amenities'].map(lambda x: 'True' if 'GUEST_PARKING' in x else 'False')\n",
        "#   dataframe['listing.playground'] = dataframe['listing.amenities'].map(lambda x: 'True' if 'PLAYGROUND' in x else 'False')\n",
        "#   dataframe['listing.mountainview'] = dataframe['listing.amenities'].map(lambda x: 'True' if 'MOUNTAIN_VIEW' in x else 'False')\n",
        "\n",
        "#   dataframe['listing.floors'] = dataframe['listing.floors'].map(lambda x: '' if len(x) == 0 else x[0])\n",
        "#   dataframe['listing.unitTypes'] = dataframe['listing.unitTypes'].map(lambda x: '' if len(x) == 0 else x[0])\n",
        "#   dataframe['listing.unitSubTypes'] = dataframe['listing.unitSubTypes'].map(lambda x: '' if len(x) == 0 else x[0])\n",
        "#   dataframe['listing.parkingSpaces'] = dataframe['listing.parkingSpaces'].map(lambda x: '' if len(x) == 0 else x[0])\n",
        "#   dataframe['listing.suites'] = dataframe['listing.suites'].map(lambda x: '' if len(x) == 0 else x[0])\n",
        "#   dataframe['listing.bathrooms'] = dataframe['listing.bathrooms'].map(lambda x: '' if len(x) == 0 else x[0])\n",
        "#   dataframe['listing.usageTypes'] = dataframe['listing.usageTypes'].map(lambda x: '' if len(x) == 0 else x[0])\n",
        "#   dataframe['listing.totalAreas'] = dataframe['listing.totalAreas'].map(lambda x: '' if len(x) == 0 else x[0])\n",
        "#   dataframe['listing.bedrooms'] = dataframe['listing.bedrooms'].map(lambda x: '' if len(x) == 0 else x[0])\n",
        "#   dataframe['listing.usableAreas'] = dataframe['listing.usableAreas'].map(lambda x: '' if len(x) == 0 else x[0])\n",
        "#   dataframe['listing.address.pois'] = dataframe['listing.address.pois'].map(lambda x: '' if len(x) == 0 else x[0])\n",
        "#   dataframe['listing.address.streetNumber'] = dataframe['listing.address.streetNumber'].map(lambda x: '' if len(x) == 0 else x[0])\n",
        "#   dataframe['listing.videoTour'] = dataframe['listing.videoTour'].map(lambda x: '' if len(x) == 0 else x[0])\n",
        "\n",
        "#   return dataframe\n",
        "\n",
        "# response = get_by_page(1)\n",
        "\n",
        "# def get_parsed_html(response):\n",
        "#   if response.status_code != 200: return None\n",
        "\n",
        "#   html = BeautifulSoup(response.text, 'html.parser')\n",
        "\n",
        "#   return html\n",
        "\n",
        "# parsed_html = get_parsed_html(response)\n",
        "\n",
        "# def get_property_total(html):\n",
        "#   if html is None: return 0\n",
        "\n",
        "#   title = parsed_html.find(class_='summary__title')\n",
        "#   total_str = title.strong.text.split()[0].replace('.', '')\n",
        "\n",
        "#   return int(total_str)\n",
        "\n",
        "# def get_total_of_pages(total):\n",
        "#   return math.ceil(total / 100)\n",
        "\n",
        "# TOTAL = get_property_total(parsed_html)\n",
        "# TOTAL_OF_PAGES = get_total_of_pages(TOTAL)\n",
        "\n",
        "# [TOTAL, TOTAL_OF_PAGES]\n",
        "\n",
        "# def get_parallel_data(urls):\n",
        "#   num_threads = 1000\n",
        "#   executor = ThreadPoolExecutor(max_workers=num_threads)\n",
        "\n",
        "#   responses = [executor.submit(get_response, url) for url in urls]\n",
        "\n",
        "#   completed_responses = []\n",
        "\n",
        "#   for response in as_completed(responses):\n",
        "#     result = response.result()\n",
        "\n",
        "#     completed_responses.append(result)\n",
        "\n",
        "#   filtered_responses = filter(lambda x: x[0] == 200, completed_responses)\n",
        "#   jsons = map(lambda x: x[1], filtered_responses)\n",
        "\n",
        "#   return map(get_json, jsons)\n",
        "\n",
        "# def get_data(urls):\n",
        "\n",
        "#   dfs = []\n",
        "#   for url in urls:\n",
        "#     response = get_response(url)\n",
        "\n",
        "#     if (response[0] == 200):\n",
        "#       json = get_json(response[1])\n",
        "#       df = get_dataframe(json)\n",
        "#       dfs.append(df)\n",
        "\n",
        "#   return dfs\n",
        "\n",
        "# urls = get_urls(1, 2)\n",
        "# dfs = get_data(urls)\n",
        "\n",
        "# dfs_list = list(map(get_dataframe, dfs))\n",
        "\n",
        "# df_zap = pd.concat(dfs_list, sort=False)\n",
        "# df_zap.to_csv('data_zap.csv', sep=';', index=False)\n",
        "# !cp data_zap.csv '/content/drive/MyDrive/colab-notebooks'"
      ],
      "metadata": {
        "id": "le3jkOmGqg2X"
      },
      "execution_count": null,
      "outputs": []
    },
    {
      "cell_type": "markdown",
      "metadata": {
        "id": "9UPm0Wzv6cia"
      },
      "source": [
        "# Pre-processamento"
      ]
    },
    {
      "cell_type": "code",
      "execution_count": null,
      "metadata": {
        "colab": {
          "base_uri": "https://localhost:8080/"
        },
        "id": "SWHSufZimK8i",
        "outputId": "647f546e-0b71-478c-dd3b-96f042126444"
      },
      "outputs": [
        {
          "output_type": "stream",
          "name": "stdout",
          "text": [
            "Mounted at /content/drive\n"
          ]
        }
      ],
      "source": [
        "from google.colab import drive\n",
        "drive.mount('/content/drive')"
      ]
    },
    {
      "cell_type": "code",
      "execution_count": null,
      "metadata": {
        "colab": {
          "base_uri": "https://localhost:8080/"
        },
        "id": "xXABbVPCwt-Z",
        "outputId": "94875c63-e8b4-4717-dae4-11531f110377"
      },
      "outputs": [
        {
          "output_type": "stream",
          "name": "stderr",
          "text": [
            "<ipython-input-3-47faf7056ad9>:1: FutureWarning: The error_bad_lines argument has been deprecated and will be removed in a future version. Use on_bad_lines in the future.\n",
            "\n",
            "\n",
            "  df = pd.read_csv('/content/drive/MyDrive/DS/dataZAP.csv', engine='python', sep=\";\", error_bad_lines=False)\n"
          ]
        }
      ],
      "source": [
        "df = pd.read_csv('/content/drive/MyDrive/DS/dataZAP.csv', engine='python', sep=\";\", error_bad_lines=False)"
      ]
    },
    {
      "cell_type": "code",
      "execution_count": null,
      "metadata": {
        "id": "UX-yhHAl7Uip",
        "colab": {
          "base_uri": "https://localhost:8080/"
        },
        "outputId": "7b994563-7b57-40d5-e8b9-be98630de0fc"
      },
      "outputs": [
        {
          "output_type": "execute_result",
          "data": {
            "text/plain": [
              "(35772, 78)"
            ]
          },
          "metadata": {},
          "execution_count": 4
        }
      ],
      "source": [
        "df.shape"
      ]
    },
    {
      "cell_type": "code",
      "execution_count": null,
      "metadata": {
        "id": "DKE3hrAZ7Ukj",
        "colab": {
          "base_uri": "https://localhost:8080/"
        },
        "outputId": "6b8f36e7-2a2f-44fa-b1a7-68ebbd95b251"
      },
      "outputs": [
        {
          "output_type": "execute_result",
          "data": {
            "text/plain": [
              "Index(['account.licenseNumber', 'account.name', 'imvl_type',\n",
              "       'listing.acceptExchange', 'listing.address.city',\n",
              "       'listing.address.confidence', 'listing.address.country',\n",
              "       'listing.address.level', 'listing.address.neighborhood',\n",
              "       'listing.address.point.lat', 'listing.address.point.lon',\n",
              "       'listing.address.point.source', 'listing.address.precision',\n",
              "       'listing.address.state', 'listing.address.street',\n",
              "       'listing.address.streetNumber', 'listing.address.zipCode',\n",
              "       'listing.address.zone', 'listing.advertiserId', 'listing.amenities',\n",
              "       'listing.backyard', 'listing.barbgrill', 'listing.bathrooms',\n",
              "       'listing.bathtub', 'listing.bedrooms', 'listing.businessTypeContext',\n",
              "       'listing.createdAt', 'listing.description',\n",
              "       'listing.displayAddressType', 'listing.externalId', 'listing.fireplace',\n",
              "       'listing.floors', 'listing.furnished', 'listing.garden',\n",
              "       'listing.guestpark', 'listing.gym', 'listing.hottub', 'listing.id',\n",
              "       'listing.isInactive', 'listing.legacyId', 'listing.link',\n",
              "       'listing.listingType', 'listing.mountainview', 'listing.parkingSpaces',\n",
              "       'listing.partyhall', 'listing.playground', 'listing.pool',\n",
              "       'listing.portal', 'listing.preview',\n",
              "       'listing.pricingInfo.businessLabel', 'listing.pricingInfo.businessType',\n",
              "       'listing.pricingInfo.isRent', 'listing.pricingInfo.isSale',\n",
              "       'listing.pricingInfo.monthlyCondoFee', 'listing.pricingInfo.period',\n",
              "       'listing.pricingInfo.price', 'listing.pricingInfo.rentalPrice',\n",
              "       'listing.pricingInfo.rentalTotalPrice', 'listing.pricingInfo.salePrice',\n",
              "       'listing.pricingInfo.yearlyIptu', 'listing.propertyType',\n",
              "       'listing.publicationType', 'listing.sauna', 'listing.soundproofing',\n",
              "       'listing.sportcourt', 'listing.subtitle', 'listing.suites',\n",
              "       'listing.tenniscourt', 'listing.title', 'listing.totalAreas',\n",
              "       'listing.unitFloor', 'listing.unitSubTypes', 'listing.unitTypes',\n",
              "       'listing.unitsOnTheFloor', 'listing.updatedAt', 'listing.usableAreas',\n",
              "       'listing.usageTypes', 'type'],\n",
              "      dtype='object')"
            ]
          },
          "metadata": {},
          "execution_count": 5
        }
      ],
      "source": [
        "df.columns"
      ]
    },
    {
      "cell_type": "code",
      "source": [
        "# Dados do primeiro script\n",
        "\n",
        "df_scrapping = pd.read_csv('/content/drive/MyDrive/DS/data_zap_page_1_to_101.csv', engine='python', sep=\";\", error_bad_lines=False)"
      ],
      "metadata": {
        "id": "Y46iS0E_35fk",
        "colab": {
          "base_uri": "https://localhost:8080/"
        },
        "outputId": "c44bc556-98fd-4b6c-ab5a-96d6a6b4f0f5"
      },
      "execution_count": null,
      "outputs": [
        {
          "output_type": "stream",
          "name": "stderr",
          "text": [
            "<ipython-input-6-d3d5787ec959>:3: FutureWarning: The error_bad_lines argument has been deprecated and will be removed in a future version. Use on_bad_lines in the future.\n",
            "\n",
            "\n",
            "  df_scrapping = pd.read_csv('/content/drive/MyDrive/DS/data_zap_page_1_to_101.csv', engine='python', sep=\";\", error_bad_lines=False)\n"
          ]
        }
      ]
    },
    {
      "cell_type": "code",
      "source": [
        "df_scrapping.shape"
      ],
      "metadata": {
        "id": "sYFxg0Gw4BO0",
        "colab": {
          "base_uri": "https://localhost:8080/"
        },
        "outputId": "ee28f6d9-e4e0-4a6e-aa5f-984449b4c286"
      },
      "execution_count": null,
      "outputs": [
        {
          "output_type": "execute_result",
          "data": {
            "text/plain": [
              "(10000, 155)"
            ]
          },
          "metadata": {},
          "execution_count": 7
        }
      ]
    },
    {
      "cell_type": "code",
      "source": [
        "# Juntando os datasets\n",
        "\n",
        "data = pd.concat([df_scrapping, df], join = 'inner')"
      ],
      "metadata": {
        "id": "0aBYgZgm6gHz"
      },
      "execution_count": null,
      "outputs": []
    },
    {
      "cell_type": "code",
      "source": [
        "data.shape"
      ],
      "metadata": {
        "id": "rgH2zFqr6maE",
        "colab": {
          "base_uri": "https://localhost:8080/"
        },
        "outputId": "2eaedf25-971b-48d7-a626-eb5de77293b6"
      },
      "execution_count": null,
      "outputs": [
        {
          "output_type": "execute_result",
          "data": {
            "text/plain": [
              "(45772, 76)"
            ]
          },
          "metadata": {},
          "execution_count": 9
        }
      ]
    },
    {
      "cell_type": "code",
      "source": [
        "data.columns"
      ],
      "metadata": {
        "id": "EewNfvNB4uUy",
        "colab": {
          "base_uri": "https://localhost:8080/"
        },
        "outputId": "630811bc-ad60-4d37-d55c-1d2037a2eda3"
      },
      "execution_count": null,
      "outputs": [
        {
          "output_type": "execute_result",
          "data": {
            "text/plain": [
              "Index(['type', 'account.name', 'account.licenseNumber',\n",
              "       'listing.displayAddressType', 'listing.usableAreas',\n",
              "       'listing.listingType', 'listing.description', 'listing.title',\n",
              "       'listing.createdAt', 'listing.floors', 'listing.unitTypes',\n",
              "       'listing.propertyType', 'listing.unitSubTypes',\n",
              "       'listing.unitsOnTheFloor', 'listing.legacyId', 'listing.id',\n",
              "       'listing.portal', 'listing.unitFloor', 'listing.parkingSpaces',\n",
              "       'listing.updatedAt', 'listing.address.country',\n",
              "       'listing.address.zipCode', 'listing.address.city',\n",
              "       'listing.address.streetNumber', 'listing.address.level',\n",
              "       'listing.address.precision', 'listing.address.confidence',\n",
              "       'listing.address.point.lon', 'listing.address.point.source',\n",
              "       'listing.address.point.lat', 'listing.address.zone',\n",
              "       'listing.address.street', 'listing.address.state',\n",
              "       'listing.address.neighborhood', 'listing.suites',\n",
              "       'listing.publicationType', 'listing.externalId', 'listing.bathrooms',\n",
              "       'listing.usageTypes', 'listing.totalAreas', 'listing.advertiserId',\n",
              "       'listing.bedrooms', 'listing.acceptExchange', 'listing.isInactive',\n",
              "       'listing.pricingInfo.isSale', 'listing.pricingInfo.price',\n",
              "       'listing.pricingInfo.salePrice', 'listing.pricingInfo.businessType',\n",
              "       'listing.pricingInfo.yearlyIptu', 'listing.pricingInfo.monthlyCondoFee',\n",
              "       'listing.pricingInfo.businessLabel', 'listing.pricingInfo.isRent',\n",
              "       'listing.subtitle', 'listing.businessTypeContext', 'listing.preview',\n",
              "       'listing.link', 'listing.pricingInfo.period',\n",
              "       'listing.pricingInfo.rentalPrice',\n",
              "       'listing.pricingInfo.rentalTotalPrice', 'listing.pool', 'listing.sauna',\n",
              "       'listing.backyard', 'listing.garden', 'listing.barbgrill',\n",
              "       'listing.partyhall', 'listing.tenniscourt', 'listing.sportcourt',\n",
              "       'listing.bathtub', 'listing.soundproofing', 'listing.fireplace',\n",
              "       'listing.gym', 'listing.hottub', 'listing.furnished',\n",
              "       'listing.guestpark', 'listing.playground', 'listing.mountainview'],\n",
              "      dtype='object')"
            ]
          },
          "metadata": {},
          "execution_count": 10
        }
      ]
    },
    {
      "cell_type": "code",
      "source": [
        "data = data.drop(columns=['listing.updatedAt', 'listing.propertyType', 'listing.pricingInfo.monthlyCondoFee',\n",
        "                 'listing.preview', 'listing.listingType', 'listing.link', 'listing.address.confidence', 'listing.address.point.lat',\n",
        "                 'listing.address.zipCode', 'listing.advertiserId', 'listing.externalId', 'listing.createdAt', 'listing.address.point.lon',\n",
        "                 'listing.pricingInfo.isRent', 'listing.pricingInfo.isSale', 'listing.pricingInfo.yearlyIptu', 'account.name', 'account.licenseNumber',\n",
        "                 'listing.title', 'listing.description', 'listing.listingType', 'listing.createdAt', 'listing.legacyId', 'listing.id', 'listing.link',\n",
        "                 'listing.subtitle', 'listing.advertiserId', 'listing.address.streetNumber', 'listing.address.zipCode', 'listing.updatedAt', 'listing.externalId',\n",
        "                 'listing.pricingInfo.salePrice', 'listing.pricingInfo.rentalPrice', 'listing.pricingInfo.rentalTotalPrice'])"
      ],
      "metadata": {
        "id": "K7D43B6-6y7m"
      },
      "execution_count": null,
      "outputs": []
    },
    {
      "cell_type": "code",
      "source": [
        "data = data.drop_duplicates()"
      ],
      "metadata": {
        "id": "BMVT3Dn63yEz"
      },
      "execution_count": null,
      "outputs": []
    },
    {
      "cell_type": "code",
      "source": [
        "data.shape"
      ],
      "metadata": {
        "id": "tjGg2MVKETbh",
        "colab": {
          "base_uri": "https://localhost:8080/"
        },
        "outputId": "fad422ed-841a-477c-e873-ca37c6f138bf"
      },
      "execution_count": null,
      "outputs": [
        {
          "output_type": "execute_result",
          "data": {
            "text/plain": [
              "(32023, 49)"
            ]
          },
          "metadata": {},
          "execution_count": 13
        }
      ]
    },
    {
      "cell_type": "code",
      "source": [
        "data = data[data['listing.businessTypeContext'] =='SALE']"
      ],
      "metadata": {
        "id": "Y7GTlDM7389Q"
      },
      "execution_count": null,
      "outputs": []
    },
    {
      "cell_type": "code",
      "source": [
        "data.shape"
      ],
      "metadata": {
        "id": "yFrA6f-j4Q_f",
        "colab": {
          "base_uri": "https://localhost:8080/"
        },
        "outputId": "eb8420c7-30fd-4f90-c21c-b2de03b40e3d"
      },
      "execution_count": null,
      "outputs": [
        {
          "output_type": "execute_result",
          "data": {
            "text/plain": [
              "(7949, 49)"
            ]
          },
          "metadata": {},
          "execution_count": 15
        }
      ]
    },
    {
      "cell_type": "code",
      "source": [
        "data[['listing.businessTypeContext', 'listing.pricingInfo.price']]"
      ],
      "metadata": {
        "id": "au0TvTvK5FGs",
        "colab": {
          "base_uri": "https://localhost:8080/",
          "height": 423
        },
        "outputId": "c6065674-fced-431a-aa54-a3943def50ec"
      },
      "execution_count": null,
      "outputs": [
        {
          "output_type": "execute_result",
          "data": {
            "text/plain": [
              "      listing.businessTypeContext listing.pricingInfo.price\n",
              "0                            SALE                   980.000\n",
              "1                            SALE                   330.000\n",
              "2                            SALE                   250.000\n",
              "3                            SALE                   280.000\n",
              "4                            SALE                   400.000\n",
              "...                           ...                       ...\n",
              "34654                        SALE                       1.2\n",
              "34730                        SALE                       4.9\n",
              "34738                        SALE                       3.0\n",
              "34779                        SALE                      13.0\n",
              "34788                        SALE                       7.0\n",
              "\n",
              "[7949 rows x 2 columns]"
            ],
            "text/html": [
              "\n",
              "  <div id=\"df-09ef1f42-62b9-4577-9c0b-98d27ba8ddb0\">\n",
              "    <div class=\"colab-df-container\">\n",
              "      <div>\n",
              "<style scoped>\n",
              "    .dataframe tbody tr th:only-of-type {\n",
              "        vertical-align: middle;\n",
              "    }\n",
              "\n",
              "    .dataframe tbody tr th {\n",
              "        vertical-align: top;\n",
              "    }\n",
              "\n",
              "    .dataframe thead th {\n",
              "        text-align: right;\n",
              "    }\n",
              "</style>\n",
              "<table border=\"1\" class=\"dataframe\">\n",
              "  <thead>\n",
              "    <tr style=\"text-align: right;\">\n",
              "      <th></th>\n",
              "      <th>listing.businessTypeContext</th>\n",
              "      <th>listing.pricingInfo.price</th>\n",
              "    </tr>\n",
              "  </thead>\n",
              "  <tbody>\n",
              "    <tr>\n",
              "      <th>0</th>\n",
              "      <td>SALE</td>\n",
              "      <td>980.000</td>\n",
              "    </tr>\n",
              "    <tr>\n",
              "      <th>1</th>\n",
              "      <td>SALE</td>\n",
              "      <td>330.000</td>\n",
              "    </tr>\n",
              "    <tr>\n",
              "      <th>2</th>\n",
              "      <td>SALE</td>\n",
              "      <td>250.000</td>\n",
              "    </tr>\n",
              "    <tr>\n",
              "      <th>3</th>\n",
              "      <td>SALE</td>\n",
              "      <td>280.000</td>\n",
              "    </tr>\n",
              "    <tr>\n",
              "      <th>4</th>\n",
              "      <td>SALE</td>\n",
              "      <td>400.000</td>\n",
              "    </tr>\n",
              "    <tr>\n",
              "      <th>...</th>\n",
              "      <td>...</td>\n",
              "      <td>...</td>\n",
              "    </tr>\n",
              "    <tr>\n",
              "      <th>34654</th>\n",
              "      <td>SALE</td>\n",
              "      <td>1.2</td>\n",
              "    </tr>\n",
              "    <tr>\n",
              "      <th>34730</th>\n",
              "      <td>SALE</td>\n",
              "      <td>4.9</td>\n",
              "    </tr>\n",
              "    <tr>\n",
              "      <th>34738</th>\n",
              "      <td>SALE</td>\n",
              "      <td>3.0</td>\n",
              "    </tr>\n",
              "    <tr>\n",
              "      <th>34779</th>\n",
              "      <td>SALE</td>\n",
              "      <td>13.0</td>\n",
              "    </tr>\n",
              "    <tr>\n",
              "      <th>34788</th>\n",
              "      <td>SALE</td>\n",
              "      <td>7.0</td>\n",
              "    </tr>\n",
              "  </tbody>\n",
              "</table>\n",
              "<p>7949 rows × 2 columns</p>\n",
              "</div>\n",
              "      <button class=\"colab-df-convert\" onclick=\"convertToInteractive('df-09ef1f42-62b9-4577-9c0b-98d27ba8ddb0')\"\n",
              "              title=\"Convert this dataframe to an interactive table.\"\n",
              "              style=\"display:none;\">\n",
              "        \n",
              "  <svg xmlns=\"http://www.w3.org/2000/svg\" height=\"24px\"viewBox=\"0 0 24 24\"\n",
              "       width=\"24px\">\n",
              "    <path d=\"M0 0h24v24H0V0z\" fill=\"none\"/>\n",
              "    <path d=\"M18.56 5.44l.94 2.06.94-2.06 2.06-.94-2.06-.94-.94-2.06-.94 2.06-2.06.94zm-11 1L8.5 8.5l.94-2.06 2.06-.94-2.06-.94L8.5 2.5l-.94 2.06-2.06.94zm10 10l.94 2.06.94-2.06 2.06-.94-2.06-.94-.94-2.06-.94 2.06-2.06.94z\"/><path d=\"M17.41 7.96l-1.37-1.37c-.4-.4-.92-.59-1.43-.59-.52 0-1.04.2-1.43.59L10.3 9.45l-7.72 7.72c-.78.78-.78 2.05 0 2.83L4 21.41c.39.39.9.59 1.41.59.51 0 1.02-.2 1.41-.59l7.78-7.78 2.81-2.81c.8-.78.8-2.07 0-2.86zM5.41 20L4 18.59l7.72-7.72 1.47 1.35L5.41 20z\"/>\n",
              "  </svg>\n",
              "      </button>\n",
              "      \n",
              "  <style>\n",
              "    .colab-df-container {\n",
              "      display:flex;\n",
              "      flex-wrap:wrap;\n",
              "      gap: 12px;\n",
              "    }\n",
              "\n",
              "    .colab-df-convert {\n",
              "      background-color: #E8F0FE;\n",
              "      border: none;\n",
              "      border-radius: 50%;\n",
              "      cursor: pointer;\n",
              "      display: none;\n",
              "      fill: #1967D2;\n",
              "      height: 32px;\n",
              "      padding: 0 0 0 0;\n",
              "      width: 32px;\n",
              "    }\n",
              "\n",
              "    .colab-df-convert:hover {\n",
              "      background-color: #E2EBFA;\n",
              "      box-shadow: 0px 1px 2px rgba(60, 64, 67, 0.3), 0px 1px 3px 1px rgba(60, 64, 67, 0.15);\n",
              "      fill: #174EA6;\n",
              "    }\n",
              "\n",
              "    [theme=dark] .colab-df-convert {\n",
              "      background-color: #3B4455;\n",
              "      fill: #D2E3FC;\n",
              "    }\n",
              "\n",
              "    [theme=dark] .colab-df-convert:hover {\n",
              "      background-color: #434B5C;\n",
              "      box-shadow: 0px 1px 3px 1px rgba(0, 0, 0, 0.15);\n",
              "      filter: drop-shadow(0px 1px 2px rgba(0, 0, 0, 0.3));\n",
              "      fill: #FFFFFF;\n",
              "    }\n",
              "  </style>\n",
              "\n",
              "      <script>\n",
              "        const buttonEl =\n",
              "          document.querySelector('#df-09ef1f42-62b9-4577-9c0b-98d27ba8ddb0 button.colab-df-convert');\n",
              "        buttonEl.style.display =\n",
              "          google.colab.kernel.accessAllowed ? 'block' : 'none';\n",
              "\n",
              "        async function convertToInteractive(key) {\n",
              "          const element = document.querySelector('#df-09ef1f42-62b9-4577-9c0b-98d27ba8ddb0');\n",
              "          const dataTable =\n",
              "            await google.colab.kernel.invokeFunction('convertToInteractive',\n",
              "                                                     [key], {});\n",
              "          if (!dataTable) return;\n",
              "\n",
              "          const docLinkHtml = 'Like what you see? Visit the ' +\n",
              "            '<a target=\"_blank\" href=https://colab.research.google.com/notebooks/data_table.ipynb>data table notebook</a>'\n",
              "            + ' to learn more about interactive tables.';\n",
              "          element.innerHTML = '';\n",
              "          dataTable['output_type'] = 'display_data';\n",
              "          await google.colab.output.renderOutput(dataTable, element);\n",
              "          const docLink = document.createElement('div');\n",
              "          docLink.innerHTML = docLinkHtml;\n",
              "          element.appendChild(docLink);\n",
              "        }\n",
              "      </script>\n",
              "    </div>\n",
              "  </div>\n",
              "  "
            ]
          },
          "metadata": {},
          "execution_count": 16
        }
      ]
    },
    {
      "cell_type": "code",
      "source": [
        "data['listing.pricingInfo.price'] = data['listing.pricingInfo.price'].str.replace(r'\\.', '')"
      ],
      "metadata": {
        "id": "huyxgO-7FErD",
        "colab": {
          "base_uri": "https://localhost:8080/"
        },
        "outputId": "28aa7b02-b342-4630-cb36-6ea396c44fef"
      },
      "execution_count": null,
      "outputs": [
        {
          "output_type": "stream",
          "name": "stderr",
          "text": [
            "<ipython-input-17-4403adb31c06>:1: FutureWarning: The default value of regex will change from True to False in a future version.\n",
            "  data['listing.pricingInfo.price'] = data['listing.pricingInfo.price'].str.replace(r'\\.', '')\n"
          ]
        }
      ]
    },
    {
      "cell_type": "code",
      "source": [
        "data['listing.pricingInfo.price'] = data['listing.pricingInfo.price'].astype(float)"
      ],
      "metadata": {
        "id": "Oc77HiD3FEtn"
      },
      "execution_count": null,
      "outputs": []
    },
    {
      "cell_type": "code",
      "source": [
        "data = data.drop(columns=['listing.address.country', 'type', 'listing.floors', 'listing.unitSubTypes', 'listing.pricingInfo.period',\n",
        "                          'listing.address.point.source', 'listing.address.street', 'listing.address.neighborhood', 'listing.address.city'])"
      ],
      "metadata": {
        "id": "MxAeqMigQ6FW"
      },
      "execution_count": null,
      "outputs": []
    },
    {
      "cell_type": "code",
      "source": [
        "data.isna().sum()"
      ],
      "metadata": {
        "id": "KnG61PaWFEwB",
        "colab": {
          "base_uri": "https://localhost:8080/"
        },
        "outputId": "791f3f10-c71b-4b7d-9f02-93ba3b678ec2"
      },
      "execution_count": null,
      "outputs": [
        {
          "output_type": "execute_result",
          "data": {
            "text/plain": [
              "listing.displayAddressType              0\n",
              "listing.usableAreas                    14\n",
              "listing.unitTypes                       0\n",
              "listing.unitsOnTheFloor                 0\n",
              "listing.portal                          0\n",
              "listing.unitFloor                       0\n",
              "listing.parkingSpaces                1461\n",
              "listing.address.level                   0\n",
              "listing.address.precision               0\n",
              "listing.address.zone                  206\n",
              "listing.address.state                   1\n",
              "listing.suites                       1482\n",
              "listing.publicationType                 0\n",
              "listing.bathrooms                     236\n",
              "listing.usageTypes                      0\n",
              "listing.totalAreas                    747\n",
              "listing.bedrooms                      321\n",
              "listing.acceptExchange                  0\n",
              "listing.isInactive                      0\n",
              "listing.pricingInfo.price             366\n",
              "listing.pricingInfo.businessType        0\n",
              "listing.pricingInfo.businessLabel       0\n",
              "listing.businessTypeContext             0\n",
              "listing.pool                            0\n",
              "listing.sauna                           0\n",
              "listing.backyard                        0\n",
              "listing.garden                          0\n",
              "listing.barbgrill                       0\n",
              "listing.partyhall                       0\n",
              "listing.tenniscourt                     0\n",
              "listing.sportcourt                      0\n",
              "listing.bathtub                         0\n",
              "listing.soundproofing                   0\n",
              "listing.fireplace                       0\n",
              "listing.gym                             0\n",
              "listing.hottub                          0\n",
              "listing.furnished                       0\n",
              "listing.guestpark                       0\n",
              "listing.playground                      0\n",
              "listing.mountainview                    0\n",
              "dtype: int64"
            ]
          },
          "metadata": {},
          "execution_count": 20
        }
      ]
    },
    {
      "cell_type": "code",
      "source": [
        "data['listing.pricingInfo.price'].mean()"
      ],
      "metadata": {
        "id": "vjmsQM7aRI9H",
        "colab": {
          "base_uri": "https://localhost:8080/"
        },
        "outputId": "061c71a5-5442-4786-c9d4-b751fa02364d"
      },
      "execution_count": null,
      "outputs": [
        {
          "output_type": "execute_result",
          "data": {
            "text/plain": [
              "1083619.6471053672"
            ]
          },
          "metadata": {},
          "execution_count": 21
        }
      ]
    },
    {
      "cell_type": "code",
      "source": [
        "data['listing.pricingInfo.price'].value_counts()"
      ],
      "metadata": {
        "id": "38SYuTicZ45U",
        "colab": {
          "base_uri": "https://localhost:8080/"
        },
        "outputId": "400dab84-3e2e-47f7-e20e-aec36f91e6d0"
      },
      "execution_count": null,
      "outputs": [
        {
          "output_type": "execute_result",
          "data": {
            "text/plain": [
              "750000.0     99\n",
              "850000.0     96\n",
              "90000.0      89\n",
              "250000.0     83\n",
              "350000.0     83\n",
              "             ..\n",
              "2540000.0     1\n",
              "1199280.0     1\n",
              "96000.0       1\n",
              "211700.0      1\n",
              "286840.0      1\n",
              "Name: listing.pricingInfo.price, Length: 2075, dtype: int64"
            ]
          },
          "metadata": {},
          "execution_count": 22
        }
      ]
    },
    {
      "cell_type": "code",
      "source": [
        "# Forma de resolução (por média/moda nos nulos)\n",
        "\n",
        "data['listing.pricingInfo.price'] = data['listing.pricingInfo.price'].fillna(750000.0)"
      ],
      "metadata": {
        "id": "9lFsiGEGSedp"
      },
      "execution_count": null,
      "outputs": []
    },
    {
      "cell_type": "code",
      "source": [
        "data['listing.pricingInfo.price'].isna().sum()"
      ],
      "metadata": {
        "id": "MEWyqg3BdDxf",
        "colab": {
          "base_uri": "https://localhost:8080/"
        },
        "outputId": "e66711fe-1f6f-4c1e-89d9-8e7db6004f26"
      },
      "execution_count": null,
      "outputs": [
        {
          "output_type": "execute_result",
          "data": {
            "text/plain": [
              "0"
            ]
          },
          "metadata": {},
          "execution_count": 24
        }
      ]
    },
    {
      "cell_type": "code",
      "source": [
        "# Forma de resolução (tinha apenas 1 valor nulo, logo resolvemos dropas)\n",
        "\n",
        "data = data.dropna(subset=['listing.address.state'])"
      ],
      "metadata": {
        "id": "VURdg4FBThb3"
      },
      "execution_count": null,
      "outputs": []
    },
    {
      "cell_type": "code",
      "source": [
        "data.shape"
      ],
      "metadata": {
        "id": "ycu3xVCnTx5_",
        "colab": {
          "base_uri": "https://localhost:8080/"
        },
        "outputId": "b5a5df05-a61a-46e3-bcb7-aa2c4bdf77c2"
      },
      "execution_count": null,
      "outputs": [
        {
          "output_type": "execute_result",
          "data": {
            "text/plain": [
              "(7948, 40)"
            ]
          },
          "metadata": {},
          "execution_count": 26
        }
      ]
    },
    {
      "cell_type": "code",
      "source": [
        "data['listing.address.state'].isna().sum()"
      ],
      "metadata": {
        "id": "RTuAkVsddg5K",
        "colab": {
          "base_uri": "https://localhost:8080/"
        },
        "outputId": "d56eac71-c7b2-4013-db59-a65393f1a5aa"
      },
      "execution_count": null,
      "outputs": [
        {
          "output_type": "execute_result",
          "data": {
            "text/plain": [
              "0"
            ]
          },
          "metadata": {},
          "execution_count": 27
        }
      ]
    },
    {
      "cell_type": "code",
      "source": [
        "# listing.address.zone (os meninos vão ver o que fazer)"
      ],
      "metadata": {
        "id": "Dv2ttUreUFZj"
      },
      "execution_count": null,
      "outputs": []
    },
    {
      "cell_type": "code",
      "source": [
        "# Forma de resolução (por média/moda nos nulos/transformar em númerico)\n",
        "\n",
        "data['listing.usableAreas'] = data['listing.usableAreas'].astype(float)"
      ],
      "metadata": {
        "id": "xOlhPVMPUV0V",
        "colab": {
          "base_uri": "https://localhost:8080/"
        },
        "outputId": "5652b01a-5d19-4306-a3be-2d0a3fd5c465"
      },
      "execution_count": null,
      "outputs": [
        {
          "output_type": "stream",
          "name": "stderr",
          "text": [
            "<ipython-input-29-d95136d27c93>:3: SettingWithCopyWarning: \n",
            "A value is trying to be set on a copy of a slice from a DataFrame.\n",
            "Try using .loc[row_indexer,col_indexer] = value instead\n",
            "\n",
            "See the caveats in the documentation: https://pandas.pydata.org/pandas-docs/stable/user_guide/indexing.html#returning-a-view-versus-a-copy\n",
            "  data['listing.usableAreas'] = data['listing.usableAreas'].astype(float)\n"
          ]
        }
      ]
    },
    {
      "cell_type": "code",
      "source": [
        "data['listing.usableAreas'].mean()"
      ],
      "metadata": {
        "id": "78Kkg-a3Uj0J",
        "colab": {
          "base_uri": "https://localhost:8080/"
        },
        "outputId": "4173f1f4-c45b-432d-8f81-e360850b84cb"
      },
      "execution_count": null,
      "outputs": [
        {
          "output_type": "execute_result",
          "data": {
            "text/plain": [
              "21408.579153012353"
            ]
          },
          "metadata": {},
          "execution_count": 30
        }
      ]
    },
    {
      "cell_type": "code",
      "source": [
        "data['listing.usableAreas'].value_counts()"
      ],
      "metadata": {
        "id": "HfSwbLs6aJeY",
        "colab": {
          "base_uri": "https://localhost:8080/"
        },
        "outputId": "5a52f839-6498-407b-f4ba-27f64ae90071"
      },
      "execution_count": null,
      "outputs": [
        {
          "output_type": "execute_result",
          "data": {
            "text/plain": [
              "500.0     202\n",
              "1000.0    168\n",
              "60.0      159\n",
              "40.0      145\n",
              "70.0      124\n",
              "         ... \n",
              "418.0       1\n",
              "413.0       1\n",
              "365.0       1\n",
              "842.0       1\n",
              "554.0       1\n",
              "Name: listing.usableAreas, Length: 753, dtype: int64"
            ]
          },
          "metadata": {},
          "execution_count": 31
        }
      ]
    },
    {
      "cell_type": "code",
      "source": [
        "data['listing.usableAreas'] = data['listing.usableAreas'].fillna(500.0)"
      ],
      "metadata": {
        "id": "PHWTrfstUj2Q"
      },
      "execution_count": null,
      "outputs": []
    },
    {
      "cell_type": "code",
      "source": [
        "data['listing.usableAreas'].isna().sum()"
      ],
      "metadata": {
        "id": "zVpGhiihdjgT",
        "colab": {
          "base_uri": "https://localhost:8080/"
        },
        "outputId": "9d762211-3ec4-4fb4-d66d-b5c43b6d407d"
      },
      "execution_count": null,
      "outputs": [
        {
          "output_type": "execute_result",
          "data": {
            "text/plain": [
              "0"
            ]
          },
          "metadata": {},
          "execution_count": 33
        }
      ]
    },
    {
      "cell_type": "code",
      "source": [
        "# Forma de resolução (por média/moda nos nulos/transformar em númerico)\n",
        "\n",
        "data['listing.bathrooms'] = data['listing.bathrooms'].astype(float)"
      ],
      "metadata": {
        "id": "M_Bss6-XUytY"
      },
      "execution_count": null,
      "outputs": []
    },
    {
      "cell_type": "code",
      "source": [
        "data['listing.bathrooms'].value_counts()"
      ],
      "metadata": {
        "id": "Wuw3VePpUyvw",
        "colab": {
          "base_uri": "https://localhost:8080/"
        },
        "outputId": "47be05d4-0a33-496a-b1cc-0b4f87927d7c"
      },
      "execution_count": null,
      "outputs": [
        {
          "output_type": "execute_result",
          "data": {
            "text/plain": [
              "1.0     2576\n",
              "2.0     1945\n",
              "3.0     1002\n",
              "0.0      845\n",
              "4.0      662\n",
              "5.0      376\n",
              "6.0      192\n",
              "7.0       52\n",
              "8.0       32\n",
              "9.0       10\n",
              "10.0       5\n",
              "11.0       4\n",
              "12.0       3\n",
              "30.0       1\n",
              "24.0       1\n",
              "29.0       1\n",
              "50.0       1\n",
              "28.0       1\n",
              "15.0       1\n",
              "34.0       1\n",
              "20.0       1\n",
              "Name: listing.bathrooms, dtype: int64"
            ]
          },
          "metadata": {},
          "execution_count": 35
        }
      ]
    },
    {
      "cell_type": "code",
      "source": [
        "data['listing.bathrooms'].mean()"
      ],
      "metadata": {
        "id": "92IvGH6DWCe5",
        "colab": {
          "base_uri": "https://localhost:8080/"
        },
        "outputId": "9f19cdc4-d051-40d8-d360-2f46267db088"
      },
      "execution_count": null,
      "outputs": [
        {
          "output_type": "execute_result",
          "data": {
            "text/plain": [
              "2.1034751037344397"
            ]
          },
          "metadata": {},
          "execution_count": 36
        }
      ]
    },
    {
      "cell_type": "code",
      "source": [
        "data['listing.bathrooms'] = data['listing.bathrooms'].fillna(data['listing.bathrooms'].mean())"
      ],
      "metadata": {
        "id": "6ohvlzzeWFlu"
      },
      "execution_count": null,
      "outputs": []
    },
    {
      "cell_type": "code",
      "source": [
        "data['listing.bathrooms'] = data['listing.bathrooms'].astype(int)"
      ],
      "metadata": {
        "id": "ikiPpOciWM8u"
      },
      "execution_count": null,
      "outputs": []
    },
    {
      "cell_type": "code",
      "source": [
        "data['listing.bathrooms'].isna().sum()"
      ],
      "metadata": {
        "id": "hGcNRVdsd1zv",
        "colab": {
          "base_uri": "https://localhost:8080/"
        },
        "outputId": "8769d9d1-f53f-4eb5-fbe9-16394180b8d6"
      },
      "execution_count": null,
      "outputs": [
        {
          "output_type": "execute_result",
          "data": {
            "text/plain": [
              "0"
            ]
          },
          "metadata": {},
          "execution_count": 39
        }
      ]
    },
    {
      "cell_type": "code",
      "source": [
        "# Forma de resolução (por moda/média nos nulos/transformar em númerico)\n",
        "\n",
        "data['listing.bedrooms'] = data['listing.bedrooms'].astype(float)"
      ],
      "metadata": {
        "id": "WVZOOeFBWUft"
      },
      "execution_count": null,
      "outputs": []
    },
    {
      "cell_type": "code",
      "source": [
        "data['listing.bedrooms'].value_counts()"
      ],
      "metadata": {
        "id": "G2_whR0hWalY",
        "colab": {
          "base_uri": "https://localhost:8080/"
        },
        "outputId": "f5b3778c-2945-44e8-afa2-8bd090b50c76"
      },
      "execution_count": null,
      "outputs": [
        {
          "output_type": "execute_result",
          "data": {
            "text/plain": [
              "2.0     2522\n",
              "3.0     2516\n",
              "0.0      964\n",
              "1.0      722\n",
              "4.0      704\n",
              "5.0      125\n",
              "6.0       44\n",
              "7.0        9\n",
              "8.0        6\n",
              "10.0       4\n",
              "30.0       2\n",
              "9.0        2\n",
              "18.0       1\n",
              "50.0       1\n",
              "28.0       1\n",
              "15.0       1\n",
              "20.0       1\n",
              "34.0       1\n",
              "16.0       1\n",
              "Name: listing.bedrooms, dtype: int64"
            ]
          },
          "metadata": {},
          "execution_count": 41
        }
      ]
    },
    {
      "cell_type": "code",
      "source": [
        "data['listing.bedrooms'].mean()"
      ],
      "metadata": {
        "id": "XZEtUlwjWdGe",
        "colab": {
          "base_uri": "https://localhost:8080/"
        },
        "outputId": "cafaa773-cd9a-443a-e44a-6bdb7dd03e44"
      },
      "execution_count": null,
      "outputs": [
        {
          "output_type": "execute_result",
          "data": {
            "text/plain": [
              "2.285171102661597"
            ]
          },
          "metadata": {},
          "execution_count": 42
        }
      ]
    },
    {
      "cell_type": "code",
      "source": [
        "data['listing.bedrooms'] = data['listing.bedrooms'].fillna(2.0)"
      ],
      "metadata": {
        "id": "JGH_xWzdWvtv"
      },
      "execution_count": null,
      "outputs": []
    },
    {
      "cell_type": "code",
      "source": [
        "data['listing.bedrooms'].isna().sum()"
      ],
      "metadata": {
        "id": "9BCIvv-ld_wN",
        "colab": {
          "base_uri": "https://localhost:8080/"
        },
        "outputId": "b8026a82-bc98-4454-a74c-584037011369"
      },
      "execution_count": null,
      "outputs": [
        {
          "output_type": "execute_result",
          "data": {
            "text/plain": [
              "0"
            ]
          },
          "metadata": {},
          "execution_count": 44
        }
      ]
    },
    {
      "cell_type": "code",
      "source": [
        "data['listing.bedrooms'] = data['listing.bedrooms'].astype(int)"
      ],
      "metadata": {
        "id": "loS3ejzRWgoM"
      },
      "execution_count": null,
      "outputs": []
    },
    {
      "cell_type": "code",
      "source": [
        "# Forma de resolução (por média/moda nos nulos/transformar em númerico)\n",
        "\n",
        "data['listing.suites'] = data['listing.suites'].astype(float)"
      ],
      "metadata": {
        "id": "BLeBq40lXFQb"
      },
      "execution_count": null,
      "outputs": []
    },
    {
      "cell_type": "code",
      "source": [
        "data['listing.suites'].value_counts()"
      ],
      "metadata": {
        "id": "pvnWwBm3XFS4",
        "colab": {
          "base_uri": "https://localhost:8080/"
        },
        "outputId": "514b84d9-094e-4fc5-8718-e59e624c200e"
      },
      "execution_count": null,
      "outputs": [
        {
          "output_type": "execute_result",
          "data": {
            "text/plain": [
              "1.0     2875\n",
              "0.0     1959\n",
              "3.0      666\n",
              "2.0      592\n",
              "4.0      290\n",
              "5.0       59\n",
              "6.0       14\n",
              "7.0        4\n",
              "10.0       2\n",
              "34.0       1\n",
              "50.0       1\n",
              "18.0       1\n",
              "22.0       1\n",
              "9.0        1\n",
              "8.0        1\n",
              "Name: listing.suites, dtype: int64"
            ]
          },
          "metadata": {},
          "execution_count": 47
        }
      ]
    },
    {
      "cell_type": "code",
      "source": [
        "data['listing.suites'].mean()"
      ],
      "metadata": {
        "id": "bMpcviDFXSsR",
        "colab": {
          "base_uri": "https://localhost:8080/"
        },
        "outputId": "30941d4c-3a26-4cbd-924d-736e287df7e9"
      },
      "execution_count": null,
      "outputs": [
        {
          "output_type": "execute_result",
          "data": {
            "text/plain": [
              "1.2038039276325962"
            ]
          },
          "metadata": {},
          "execution_count": 48
        }
      ]
    },
    {
      "cell_type": "code",
      "source": [
        "data['listing.suites'] = data['listing.suites'].fillna(1.0)"
      ],
      "metadata": {
        "id": "cUBHUAvKXYxF"
      },
      "execution_count": null,
      "outputs": []
    },
    {
      "cell_type": "code",
      "source": [
        "data['listing.suites'] = data['listing.suites'].astype(int)"
      ],
      "metadata": {
        "id": "DtzIfUVEb0mf"
      },
      "execution_count": null,
      "outputs": []
    },
    {
      "cell_type": "code",
      "source": [
        "data['listing.suites'].isna().sum()"
      ],
      "metadata": {
        "id": "gWtOw20TeNPS",
        "colab": {
          "base_uri": "https://localhost:8080/"
        },
        "outputId": "83ce5239-de16-4e0f-a64f-fb59ac6f20ad"
      },
      "execution_count": null,
      "outputs": [
        {
          "output_type": "execute_result",
          "data": {
            "text/plain": [
              "0"
            ]
          },
          "metadata": {},
          "execution_count": 51
        }
      ]
    },
    {
      "cell_type": "code",
      "source": [
        "# Forma de resolução (por média/moda nos nulos/transformar em númerico)\n",
        "\n",
        "data['listing.parkingSpaces'] = data['listing.parkingSpaces'].astype(float)"
      ],
      "metadata": {
        "id": "5dOVpVotXyW0"
      },
      "execution_count": null,
      "outputs": []
    },
    {
      "cell_type": "code",
      "source": [
        "data['listing.parkingSpaces'].mean()"
      ],
      "metadata": {
        "id": "6RrBbSDgYT2s",
        "colab": {
          "base_uri": "https://localhost:8080/"
        },
        "outputId": "db5996c4-de6e-44fd-8558-2e1a94b9f708"
      },
      "execution_count": null,
      "outputs": [
        {
          "output_type": "execute_result",
          "data": {
            "text/plain": [
              "1.8347464159087405"
            ]
          },
          "metadata": {},
          "execution_count": 53
        }
      ]
    },
    {
      "cell_type": "code",
      "source": [
        "data['listing.parkingSpaces'].value_counts()"
      ],
      "metadata": {
        "id": "fan4qC2lYV8c",
        "colab": {
          "base_uri": "https://localhost:8080/"
        },
        "outputId": "8f445c46-08ee-4022-e219-9640a9417a0b"
      },
      "execution_count": null,
      "outputs": [
        {
          "output_type": "execute_result",
          "data": {
            "text/plain": [
              "1.0      2656\n",
              "2.0      1777\n",
              "0.0       804\n",
              "4.0       490\n",
              "3.0       483\n",
              "5.0       105\n",
              "6.0        67\n",
              "8.0        36\n",
              "10.0       18\n",
              "7.0        17\n",
              "12.0        8\n",
              "9.0         6\n",
              "14.0        4\n",
              "20.0        3\n",
              "11.0        3\n",
              "18.0        2\n",
              "50.0        1\n",
              "15.0        1\n",
              "30.0        1\n",
              "24.0        1\n",
              "17.0        1\n",
              "25.0        1\n",
              "254.0       1\n",
              "19.0        1\n",
              "Name: listing.parkingSpaces, dtype: int64"
            ]
          },
          "metadata": {},
          "execution_count": 54
        }
      ]
    },
    {
      "cell_type": "code",
      "source": [
        "data['listing.parkingSpaces'] = data['listing.parkingSpaces'].fillna(1.0)"
      ],
      "metadata": {
        "id": "-CgaXhpHYda9"
      },
      "execution_count": null,
      "outputs": []
    },
    {
      "cell_type": "code",
      "source": [
        "data['listing.parkingSpaces'] = data['listing.parkingSpaces'].astype(int)"
      ],
      "metadata": {
        "id": "qUCwGgs3cVcu"
      },
      "execution_count": null,
      "outputs": []
    },
    {
      "cell_type": "code",
      "source": [
        "data['listing.parkingSpaces'].isna().sum()"
      ],
      "metadata": {
        "id": "CNq7hchXoD6w",
        "colab": {
          "base_uri": "https://localhost:8080/"
        },
        "outputId": "3d9f8eb6-c0b2-4a1e-9c56-eb6f0bc4fdfc"
      },
      "execution_count": null,
      "outputs": [
        {
          "output_type": "execute_result",
          "data": {
            "text/plain": [
              "0"
            ]
          },
          "metadata": {},
          "execution_count": 57
        }
      ]
    },
    {
      "cell_type": "code",
      "source": [
        "# Forma de resolução (por média/moda no nulo e no normal/transformar para númerico)\n",
        "\n",
        "data['listing.totalAreas'] = data['listing.totalAreas'].replace(\"normal\", np.nan)"
      ],
      "metadata": {
        "id": "941_c9fYYuv4"
      },
      "execution_count": null,
      "outputs": []
    },
    {
      "cell_type": "code",
      "source": [
        "data['listing.totalAreas'] = data['listing.totalAreas'].astype(float)"
      ],
      "metadata": {
        "id": "8dRySJcLY-be"
      },
      "execution_count": null,
      "outputs": []
    },
    {
      "cell_type": "code",
      "source": [
        "data['listing.totalAreas'].mean()"
      ],
      "metadata": {
        "id": "Wlx4zV5WZC7B",
        "colab": {
          "base_uri": "https://localhost:8080/"
        },
        "outputId": "745eb659-06e1-4533-e2e4-bf2295fdaa31"
      },
      "execution_count": null,
      "outputs": [
        {
          "output_type": "execute_result",
          "data": {
            "text/plain": [
              "36074.80726965342"
            ]
          },
          "metadata": {},
          "execution_count": 60
        }
      ]
    },
    {
      "cell_type": "code",
      "source": [
        "data['listing.totalAreas'].value_counts()"
      ],
      "metadata": {
        "id": "UNkP_akMZC9X",
        "colab": {
          "base_uri": "https://localhost:8080/"
        },
        "outputId": "5abc9de0-ff53-40b8-eaff-ed28105f3516"
      },
      "execution_count": null,
      "outputs": [
        {
          "output_type": "execute_result",
          "data": {
            "text/plain": [
              "500.0     205\n",
              "1000.0    176\n",
              "250.0     126\n",
              "60.0      124\n",
              "70.0      110\n",
              "         ... \n",
              "501.0       1\n",
              "345.0       1\n",
              "19.0        1\n",
              "1250.0      1\n",
              "1108.0      1\n",
              "Name: listing.totalAreas, Length: 797, dtype: int64"
            ]
          },
          "metadata": {},
          "execution_count": 61
        }
      ]
    },
    {
      "cell_type": "code",
      "source": [
        "data['listing.totalAreas'] = data['listing.totalAreas'].fillna(500.0)"
      ],
      "metadata": {
        "id": "un-yRryhZDAE"
      },
      "execution_count": null,
      "outputs": []
    },
    {
      "cell_type": "code",
      "source": [
        "data['listing.totalAreas'] = data['listing.totalAreas'].astype(int)"
      ],
      "metadata": {
        "id": "Re-1qhr-ZP_t"
      },
      "execution_count": null,
      "outputs": []
    },
    {
      "cell_type": "code",
      "source": [
        "data['listing.totalAreas'].isna().sum()"
      ],
      "metadata": {
        "id": "GT69HpynXnwO",
        "colab": {
          "base_uri": "https://localhost:8080/"
        },
        "outputId": "8f005cf9-78ec-42cb-e4e5-ae45bbd182eb"
      },
      "execution_count": null,
      "outputs": [
        {
          "output_type": "execute_result",
          "data": {
            "text/plain": [
              "0"
            ]
          },
          "metadata": {},
          "execution_count": 64
        }
      ]
    },
    {
      "cell_type": "code",
      "source": [
        "# data['listing.usableAreas'][data['listing.usableAreas'] == 'normal']"
      ],
      "metadata": {
        "id": "-2r01OZQOJZk"
      },
      "execution_count": null,
      "outputs": []
    },
    {
      "cell_type": "code",
      "source": [
        "# for x in data['listing.usableAreas' ].value_counts().index:\n",
        "#   print(x)"
      ],
      "metadata": {
        "id": "b7Ou-_l1N3z5"
      },
      "execution_count": null,
      "outputs": []
    },
    {
      "cell_type": "code",
      "execution_count": null,
      "metadata": {
        "id": "8WKsHTTgc-ki"
      },
      "outputs": [],
      "source": [
        "# data['listing.pricingInfo.price'] = data['listing.pricingInfo.price'].replace(None,'0')"
      ]
    },
    {
      "cell_type": "code",
      "source": [
        "data['listing.pricingInfo.price'].dtypes"
      ],
      "metadata": {
        "id": "GNygBPBP1ETZ",
        "colab": {
          "base_uri": "https://localhost:8080/"
        },
        "outputId": "a8e3613e-9f7d-4369-db73-03cfd05a2a2c"
      },
      "execution_count": null,
      "outputs": [
        {
          "output_type": "execute_result",
          "data": {
            "text/plain": [
              "dtype('float64')"
            ]
          },
          "metadata": {},
          "execution_count": 68
        }
      ]
    },
    {
      "cell_type": "code",
      "execution_count": null,
      "metadata": {
        "id": "UogIw-9xrnrJ",
        "colab": {
          "base_uri": "https://localhost:8080/"
        },
        "outputId": "d6636f74-6cc0-4650-8cb3-f07896d43f78"
      },
      "outputs": [
        {
          "output_type": "execute_result",
          "data": {
            "text/plain": [
              "count    7.948000e+03\n",
              "mean     1.068380e+06\n",
              "std      8.295918e+06\n",
              "min      2.085000e+03\n",
              "25%      2.700000e+05\n",
              "50%      5.500000e+05\n",
              "75%      9.152495e+05\n",
              "max      7.000000e+08\n",
              "Name: listing.pricingInfo.price, dtype: float64"
            ]
          },
          "metadata": {},
          "execution_count": 69
        }
      ],
      "source": [
        "data['listing.pricingInfo.price'].describe()"
      ]
    },
    {
      "cell_type": "code",
      "source": [
        "data['listing.pricingInfo.price'].quantile(0.25)"
      ],
      "metadata": {
        "id": "KPaebfNH8U_F",
        "colab": {
          "base_uri": "https://localhost:8080/"
        },
        "outputId": "f2c22890-2fc8-451b-cc88-bba7fcf8f87f"
      },
      "execution_count": null,
      "outputs": [
        {
          "output_type": "execute_result",
          "data": {
            "text/plain": [
              "270000.0"
            ]
          },
          "metadata": {},
          "execution_count": 70
        }
      ]
    },
    {
      "cell_type": "code",
      "source": [
        "data['listing.pricingInfo.price'].quantile(0.50)"
      ],
      "metadata": {
        "id": "suVL_HX2fZjY",
        "colab": {
          "base_uri": "https://localhost:8080/"
        },
        "outputId": "55751bfc-d075-4a62-c54c-426e6ea473cb"
      },
      "execution_count": null,
      "outputs": [
        {
          "output_type": "execute_result",
          "data": {
            "text/plain": [
              "550000.0"
            ]
          },
          "metadata": {},
          "execution_count": 71
        }
      ]
    },
    {
      "cell_type": "code",
      "source": [
        "data['listing.pricingInfo.price'].quantile(0.75)"
      ],
      "metadata": {
        "id": "f7ealIT4fAuf",
        "colab": {
          "base_uri": "https://localhost:8080/"
        },
        "outputId": "0c29b9e7-7516-4243-d676-b7a95d159f10"
      },
      "execution_count": null,
      "outputs": [
        {
          "output_type": "execute_result",
          "data": {
            "text/plain": [
              "915249.5"
            ]
          },
          "metadata": {},
          "execution_count": 72
        }
      ]
    },
    {
      "cell_type": "code",
      "execution_count": null,
      "metadata": {
        "id": "otDu5bwrsIWk"
      },
      "outputs": [],
      "source": [
        "condicoes = [(data['listing.pricingInfo.price'] >= 0) & (data['listing.pricingInfo.price'] <= 270000.0),\n",
        "             (data['listing.pricingInfo.price'] > 270000.0) & (data['listing.pricingInfo.price'] <= 1000000.0),\n",
        "             (data['listing.pricingInfo.price'] > 1000000.0)]"
      ]
    },
    {
      "cell_type": "code",
      "execution_count": null,
      "metadata": {
        "id": "BUtn0_jdup3F"
      },
      "outputs": [],
      "source": [
        "valores = ['Baixo', 'Médio', 'Alto']"
      ]
    },
    {
      "cell_type": "code",
      "execution_count": null,
      "metadata": {
        "id": "nvgX-jJ5urug"
      },
      "outputs": [],
      "source": [
        "data['classificacao_imovel'] = np.select(condicoes, valores)"
      ]
    },
    {
      "cell_type": "code",
      "execution_count": null,
      "metadata": {
        "id": "a_g6SWS9utjF"
      },
      "outputs": [],
      "source": [
        "data['classificacao_imovel'].unique()"
      ]
    },
    {
      "cell_type": "code",
      "source": [
        "data[['listing.businessTypeContext', 'listing.pricingInfo.price', 'classificacao_imovel']]"
      ],
      "metadata": {
        "id": "6XZSJMIq7ESV"
      },
      "execution_count": null,
      "outputs": []
    },
    {
      "cell_type": "code",
      "source": [
        "data.isna().sum()"
      ],
      "metadata": {
        "id": "1Rjl2dH1fvsZ"
      },
      "execution_count": null,
      "outputs": []
    },
    {
      "cell_type": "code",
      "source": [
        "data.to_csv('/content/drive/MyDrive/DS/dados_limpos_atualizado.csv')"
      ],
      "metadata": {
        "id": "ew9t3ktlfv44"
      },
      "execution_count": null,
      "outputs": []
    },
    {
      "cell_type": "markdown",
      "source": [
        "# Regressão\n"
      ],
      "metadata": {
        "id": "fmzlpo4ZC9rp"
      }
    },
    {
      "cell_type": "markdown",
      "source": [
        "## Import Libs"
      ],
      "metadata": {
        "id": "MIFC2Wejmcsx"
      }
    },
    {
      "cell_type": "code",
      "source": [
        "!pip install category_encoders"
      ],
      "metadata": {
        "colab": {
          "base_uri": "https://localhost:8080/"
        },
        "id": "fUorddH9jUcG",
        "outputId": "006d00bf-3b27-4da0-83bb-dd22dfe1708e"
      },
      "execution_count": null,
      "outputs": [
        {
          "output_type": "stream",
          "name": "stdout",
          "text": [
            "Looking in indexes: https://pypi.org/simple, https://us-python.pkg.dev/colab-wheels/public/simple/\n",
            "Collecting category_encoders\n",
            "  Downloading category_encoders-2.6.1-py2.py3-none-any.whl (81 kB)\n",
            "\u001b[?25l     \u001b[90m━━━━━━━━━━━━━━━━━━━━━━━━━━━━━━━━━━━━━━━━\u001b[0m \u001b[32m0.0/81.9 kB\u001b[0m \u001b[31m?\u001b[0m eta \u001b[36m-:--:--\u001b[0m\r\u001b[2K     \u001b[90m━━━━━━━━━━━━━━━━━━━━━━━━━━━━━━━━━━━━━━━━\u001b[0m \u001b[32m81.9/81.9 kB\u001b[0m \u001b[31m3.9 MB/s\u001b[0m eta \u001b[36m0:00:00\u001b[0m\n",
            "\u001b[?25hRequirement already satisfied: numpy>=1.14.0 in /usr/local/lib/python3.10/dist-packages (from category_encoders) (1.22.4)\n",
            "Requirement already satisfied: scikit-learn>=0.20.0 in /usr/local/lib/python3.10/dist-packages (from category_encoders) (1.2.2)\n",
            "Requirement already satisfied: scipy>=1.0.0 in /usr/local/lib/python3.10/dist-packages (from category_encoders) (1.10.1)\n",
            "Requirement already satisfied: statsmodels>=0.9.0 in /usr/local/lib/python3.10/dist-packages (from category_encoders) (0.13.5)\n",
            "Requirement already satisfied: pandas>=1.0.5 in /usr/local/lib/python3.10/dist-packages (from category_encoders) (1.5.3)\n",
            "Requirement already satisfied: patsy>=0.5.1 in /usr/local/lib/python3.10/dist-packages (from category_encoders) (0.5.3)\n",
            "Requirement already satisfied: python-dateutil>=2.8.1 in /usr/local/lib/python3.10/dist-packages (from pandas>=1.0.5->category_encoders) (2.8.2)\n",
            "Requirement already satisfied: pytz>=2020.1 in /usr/local/lib/python3.10/dist-packages (from pandas>=1.0.5->category_encoders) (2022.7.1)\n",
            "Requirement already satisfied: six in /usr/local/lib/python3.10/dist-packages (from patsy>=0.5.1->category_encoders) (1.16.0)\n",
            "Requirement already satisfied: joblib>=1.1.1 in /usr/local/lib/python3.10/dist-packages (from scikit-learn>=0.20.0->category_encoders) (1.2.0)\n",
            "Requirement already satisfied: threadpoolctl>=2.0.0 in /usr/local/lib/python3.10/dist-packages (from scikit-learn>=0.20.0->category_encoders) (3.1.0)\n",
            "Requirement already satisfied: packaging>=21.3 in /usr/local/lib/python3.10/dist-packages (from statsmodels>=0.9.0->category_encoders) (23.1)\n",
            "Installing collected packages: category_encoders\n",
            "Successfully installed category_encoders-2.6.1\n"
          ]
        }
      ]
    },
    {
      "cell_type": "code",
      "execution_count": null,
      "metadata": {
        "id": "IvHLXDOD3M-2"
      },
      "outputs": [],
      "source": [
        "import pandas as pd\n",
        "import numpy as np\n",
        "import category_encoders as ce\n",
        "from category_encoders.one_hot import OneHotEncoder\n",
        "\n",
        "from sklearn.model_selection import train_test_split, RepeatedStratifiedKFold, GridSearchCV, cross_val_score\n",
        "\n",
        "from sklearn import neighbors\n",
        "from sklearn.linear_model import LinearRegression\n",
        "from sklearn.linear_model import LogisticRegression\n",
        "from sklearn.linear_model import Ridge\n",
        "from sklearn.ensemble import GradientBoostingRegressor\n",
        "\n",
        "from sklearn.metrics import mean_squared_error\n",
        "from sklearn.metrics import r2_score\n",
        "from sklearn.metrics import classification_report\n",
        "\n",
        "from sklearn.preprocessing import MinMaxScaler\n",
        "from sklearn.preprocessing import Normalizer\n",
        "\n",
        "import matplotlib.pyplot as plt\n",
        "%matplotlib inline"
      ]
    },
    {
      "cell_type": "markdown",
      "source": [
        "## Read Dataset"
      ],
      "metadata": {
        "id": "W1JAf3b-mfIQ"
      }
    },
    {
      "cell_type": "code",
      "execution_count": null,
      "metadata": {
        "id": "4f3KN9tL5Gck"
      },
      "outputs": [],
      "source": [
        "df = pd.read_csv('/content/drive/MyDrive/DS/dados_limpos_atualizado.csv', index_col=[0])"
      ]
    },
    {
      "cell_type": "code",
      "execution_count": null,
      "metadata": {
        "colab": {
          "base_uri": "https://localhost:8080/"
        },
        "id": "ZDXZIWxU5rKc",
        "outputId": "efc1a0c3-348b-4707-9792-1d97780cba27"
      },
      "outputs": [
        {
          "output_type": "execute_result",
          "data": {
            "text/plain": [
              "Index(['listing.displayAddressType', 'listing.usableAreas',\n",
              "       'listing.unitTypes', 'listing.unitsOnTheFloor', 'listing.portal',\n",
              "       'listing.unitFloor', 'listing.parkingSpaces', 'listing.address.level',\n",
              "       'listing.address.precision', 'listing.address.zone',\n",
              "       'listing.address.state', 'listing.suites', 'listing.publicationType',\n",
              "       'listing.bathrooms', 'listing.usageTypes', 'listing.totalAreas',\n",
              "       'listing.bedrooms', 'listing.acceptExchange', 'listing.isInactive',\n",
              "       'listing.pricingInfo.price', 'listing.pricingInfo.businessType',\n",
              "       'listing.pricingInfo.businessLabel', 'listing.businessTypeContext',\n",
              "       'listing.pool', 'listing.sauna', 'listing.backyard', 'listing.garden',\n",
              "       'listing.barbgrill', 'listing.partyhall', 'listing.tenniscourt',\n",
              "       'listing.sportcourt', 'listing.bathtub', 'listing.soundproofing',\n",
              "       'listing.fireplace', 'listing.gym', 'listing.hottub',\n",
              "       'listing.furnished', 'listing.guestpark', 'listing.playground',\n",
              "       'listing.mountainview', 'classificacao_imovel'],\n",
              "      dtype='object')"
            ]
          },
          "metadata": {},
          "execution_count": 162
        }
      ],
      "source": [
        "df.columns"
      ]
    },
    {
      "cell_type": "code",
      "execution_count": null,
      "metadata": {
        "colab": {
          "base_uri": "https://localhost:8080/"
        },
        "id": "iORsxEN35sco",
        "outputId": "78b79454-b5e4-40ea-814c-a9adee7e7f08"
      },
      "outputs": [
        {
          "output_type": "stream",
          "name": "stdout",
          "text": [
            "<class 'pandas.core.frame.DataFrame'>\n",
            "Int64Index: 7948 entries, 0 to 34788\n",
            "Data columns (total 41 columns):\n",
            " #   Column                             Non-Null Count  Dtype  \n",
            "---  ------                             --------------  -----  \n",
            " 0   listing.displayAddressType         7948 non-null   object \n",
            " 1   listing.usableAreas                7948 non-null   float64\n",
            " 2   listing.unitTypes                  7948 non-null   object \n",
            " 3   listing.unitsOnTheFloor            7948 non-null   int64  \n",
            " 4   listing.portal                     7948 non-null   object \n",
            " 5   listing.unitFloor                  7948 non-null   int64  \n",
            " 6   listing.parkingSpaces              7948 non-null   int64  \n",
            " 7   listing.address.level              7948 non-null   object \n",
            " 8   listing.address.precision          7948 non-null   object \n",
            " 9   listing.address.zone               7742 non-null   object \n",
            " 10  listing.address.state              7948 non-null   object \n",
            " 11  listing.suites                     7948 non-null   int64  \n",
            " 12  listing.publicationType            7948 non-null   object \n",
            " 13  listing.bathrooms                  7948 non-null   int64  \n",
            " 14  listing.usageTypes                 7948 non-null   object \n",
            " 15  listing.totalAreas                 7948 non-null   int64  \n",
            " 16  listing.bedrooms                   7948 non-null   int64  \n",
            " 17  listing.acceptExchange             7948 non-null   bool   \n",
            " 18  listing.isInactive                 7948 non-null   bool   \n",
            " 19  listing.pricingInfo.price          7948 non-null   float64\n",
            " 20  listing.pricingInfo.businessType   7948 non-null   object \n",
            " 21  listing.pricingInfo.businessLabel  7948 non-null   object \n",
            " 22  listing.businessTypeContext        7948 non-null   object \n",
            " 23  listing.pool                       7948 non-null   bool   \n",
            " 24  listing.sauna                      7948 non-null   bool   \n",
            " 25  listing.backyard                   7948 non-null   bool   \n",
            " 26  listing.garden                     7948 non-null   bool   \n",
            " 27  listing.barbgrill                  7948 non-null   bool   \n",
            " 28  listing.partyhall                  7948 non-null   bool   \n",
            " 29  listing.tenniscourt                7948 non-null   bool   \n",
            " 30  listing.sportcourt                 7948 non-null   bool   \n",
            " 31  listing.bathtub                    7948 non-null   bool   \n",
            " 32  listing.soundproofing              7948 non-null   bool   \n",
            " 33  listing.fireplace                  7948 non-null   bool   \n",
            " 34  listing.gym                        7948 non-null   bool   \n",
            " 35  listing.hottub                     7948 non-null   bool   \n",
            " 36  listing.furnished                  7948 non-null   bool   \n",
            " 37  listing.guestpark                  7948 non-null   bool   \n",
            " 38  listing.playground                 7948 non-null   bool   \n",
            " 39  listing.mountainview               7948 non-null   bool   \n",
            " 40  classificacao_imovel               7948 non-null   object \n",
            "dtypes: bool(19), float64(2), int64(7), object(13)\n",
            "memory usage: 1.5+ MB\n"
          ]
        }
      ],
      "source": [
        "df.info()"
      ]
    },
    {
      "cell_type": "code",
      "execution_count": null,
      "metadata": {
        "colab": {
          "base_uri": "https://localhost:8080/"
        },
        "id": "U3vmVTfe6A-w",
        "outputId": "4628a273-2f8d-45d4-8179-de4c32e7ddf2"
      },
      "outputs": [
        {
          "output_type": "execute_result",
          "data": {
            "text/plain": [
              "       listing.usableAreas  listing.unitsOnTheFloor  listing.unitFloor  \\\n",
              "count         7.948000e+03              7948.000000        7948.000000   \n",
              "mean          2.137175e+04                 0.317564           0.721188   \n",
              "std           1.177940e+06                 1.649800           3.187764   \n",
              "min           0.000000e+00                 0.000000           0.000000   \n",
              "25%           6.000000e+01                 0.000000           0.000000   \n",
              "50%           1.020000e+02                 0.000000           0.000000   \n",
              "75%           2.240000e+02                 0.000000           0.000000   \n",
              "max           1.000000e+08                50.000000          99.000000   \n",
              "\n",
              "       listing.parkingSpaces  listing.suites  listing.bathrooms  \\\n",
              "count            7948.000000     7948.000000        7948.000000   \n",
              "mean                1.681303        1.165828           2.100403   \n",
              "std                 3.280896        1.305265           1.821321   \n",
              "min                 0.000000        0.000000           0.000000   \n",
              "25%                 1.000000        1.000000           1.000000   \n",
              "50%                 1.000000        1.000000           2.000000   \n",
              "75%                 2.000000        1.000000           3.000000   \n",
              "max               254.000000       50.000000          50.000000   \n",
              "\n",
              "       listing.totalAreas  listing.bedrooms  listing.pricingInfo.price  \n",
              "count        7.948000e+03       7948.000000               7.948000e+03  \n",
              "mean         3.227025e+04          2.273654               1.068380e+06  \n",
              "std          1.297886e+06          1.523929               8.295918e+06  \n",
              "min          0.000000e+00          0.000000               2.085000e+03  \n",
              "25%          7.000000e+01          2.000000               2.700000e+05  \n",
              "50%          1.400000e+02          2.000000               5.500000e+05  \n",
              "75%          4.400000e+02          3.000000               9.152495e+05  \n",
              "max          1.000000e+08         50.000000               7.000000e+08  "
            ],
            "text/html": [
              "\n",
              "  <div id=\"df-4bc5e075-e224-47ba-85be-dda6660783aa\">\n",
              "    <div class=\"colab-df-container\">\n",
              "      <div>\n",
              "<style scoped>\n",
              "    .dataframe tbody tr th:only-of-type {\n",
              "        vertical-align: middle;\n",
              "    }\n",
              "\n",
              "    .dataframe tbody tr th {\n",
              "        vertical-align: top;\n",
              "    }\n",
              "\n",
              "    .dataframe thead th {\n",
              "        text-align: right;\n",
              "    }\n",
              "</style>\n",
              "<table border=\"1\" class=\"dataframe\">\n",
              "  <thead>\n",
              "    <tr style=\"text-align: right;\">\n",
              "      <th></th>\n",
              "      <th>listing.usableAreas</th>\n",
              "      <th>listing.unitsOnTheFloor</th>\n",
              "      <th>listing.unitFloor</th>\n",
              "      <th>listing.parkingSpaces</th>\n",
              "      <th>listing.suites</th>\n",
              "      <th>listing.bathrooms</th>\n",
              "      <th>listing.totalAreas</th>\n",
              "      <th>listing.bedrooms</th>\n",
              "      <th>listing.pricingInfo.price</th>\n",
              "    </tr>\n",
              "  </thead>\n",
              "  <tbody>\n",
              "    <tr>\n",
              "      <th>count</th>\n",
              "      <td>7.948000e+03</td>\n",
              "      <td>7948.000000</td>\n",
              "      <td>7948.000000</td>\n",
              "      <td>7948.000000</td>\n",
              "      <td>7948.000000</td>\n",
              "      <td>7948.000000</td>\n",
              "      <td>7.948000e+03</td>\n",
              "      <td>7948.000000</td>\n",
              "      <td>7.948000e+03</td>\n",
              "    </tr>\n",
              "    <tr>\n",
              "      <th>mean</th>\n",
              "      <td>2.137175e+04</td>\n",
              "      <td>0.317564</td>\n",
              "      <td>0.721188</td>\n",
              "      <td>1.681303</td>\n",
              "      <td>1.165828</td>\n",
              "      <td>2.100403</td>\n",
              "      <td>3.227025e+04</td>\n",
              "      <td>2.273654</td>\n",
              "      <td>1.068380e+06</td>\n",
              "    </tr>\n",
              "    <tr>\n",
              "      <th>std</th>\n",
              "      <td>1.177940e+06</td>\n",
              "      <td>1.649800</td>\n",
              "      <td>3.187764</td>\n",
              "      <td>3.280896</td>\n",
              "      <td>1.305265</td>\n",
              "      <td>1.821321</td>\n",
              "      <td>1.297886e+06</td>\n",
              "      <td>1.523929</td>\n",
              "      <td>8.295918e+06</td>\n",
              "    </tr>\n",
              "    <tr>\n",
              "      <th>min</th>\n",
              "      <td>0.000000e+00</td>\n",
              "      <td>0.000000</td>\n",
              "      <td>0.000000</td>\n",
              "      <td>0.000000</td>\n",
              "      <td>0.000000</td>\n",
              "      <td>0.000000</td>\n",
              "      <td>0.000000e+00</td>\n",
              "      <td>0.000000</td>\n",
              "      <td>2.085000e+03</td>\n",
              "    </tr>\n",
              "    <tr>\n",
              "      <th>25%</th>\n",
              "      <td>6.000000e+01</td>\n",
              "      <td>0.000000</td>\n",
              "      <td>0.000000</td>\n",
              "      <td>1.000000</td>\n",
              "      <td>1.000000</td>\n",
              "      <td>1.000000</td>\n",
              "      <td>7.000000e+01</td>\n",
              "      <td>2.000000</td>\n",
              "      <td>2.700000e+05</td>\n",
              "    </tr>\n",
              "    <tr>\n",
              "      <th>50%</th>\n",
              "      <td>1.020000e+02</td>\n",
              "      <td>0.000000</td>\n",
              "      <td>0.000000</td>\n",
              "      <td>1.000000</td>\n",
              "      <td>1.000000</td>\n",
              "      <td>2.000000</td>\n",
              "      <td>1.400000e+02</td>\n",
              "      <td>2.000000</td>\n",
              "      <td>5.500000e+05</td>\n",
              "    </tr>\n",
              "    <tr>\n",
              "      <th>75%</th>\n",
              "      <td>2.240000e+02</td>\n",
              "      <td>0.000000</td>\n",
              "      <td>0.000000</td>\n",
              "      <td>2.000000</td>\n",
              "      <td>1.000000</td>\n",
              "      <td>3.000000</td>\n",
              "      <td>4.400000e+02</td>\n",
              "      <td>3.000000</td>\n",
              "      <td>9.152495e+05</td>\n",
              "    </tr>\n",
              "    <tr>\n",
              "      <th>max</th>\n",
              "      <td>1.000000e+08</td>\n",
              "      <td>50.000000</td>\n",
              "      <td>99.000000</td>\n",
              "      <td>254.000000</td>\n",
              "      <td>50.000000</td>\n",
              "      <td>50.000000</td>\n",
              "      <td>1.000000e+08</td>\n",
              "      <td>50.000000</td>\n",
              "      <td>7.000000e+08</td>\n",
              "    </tr>\n",
              "  </tbody>\n",
              "</table>\n",
              "</div>\n",
              "      <button class=\"colab-df-convert\" onclick=\"convertToInteractive('df-4bc5e075-e224-47ba-85be-dda6660783aa')\"\n",
              "              title=\"Convert this dataframe to an interactive table.\"\n",
              "              style=\"display:none;\">\n",
              "        \n",
              "  <svg xmlns=\"http://www.w3.org/2000/svg\" height=\"24px\"viewBox=\"0 0 24 24\"\n",
              "       width=\"24px\">\n",
              "    <path d=\"M0 0h24v24H0V0z\" fill=\"none\"/>\n",
              "    <path d=\"M18.56 5.44l.94 2.06.94-2.06 2.06-.94-2.06-.94-.94-2.06-.94 2.06-2.06.94zm-11 1L8.5 8.5l.94-2.06 2.06-.94-2.06-.94L8.5 2.5l-.94 2.06-2.06.94zm10 10l.94 2.06.94-2.06 2.06-.94-2.06-.94-.94-2.06-.94 2.06-2.06.94z\"/><path d=\"M17.41 7.96l-1.37-1.37c-.4-.4-.92-.59-1.43-.59-.52 0-1.04.2-1.43.59L10.3 9.45l-7.72 7.72c-.78.78-.78 2.05 0 2.83L4 21.41c.39.39.9.59 1.41.59.51 0 1.02-.2 1.41-.59l7.78-7.78 2.81-2.81c.8-.78.8-2.07 0-2.86zM5.41 20L4 18.59l7.72-7.72 1.47 1.35L5.41 20z\"/>\n",
              "  </svg>\n",
              "      </button>\n",
              "      \n",
              "  <style>\n",
              "    .colab-df-container {\n",
              "      display:flex;\n",
              "      flex-wrap:wrap;\n",
              "      gap: 12px;\n",
              "    }\n",
              "\n",
              "    .colab-df-convert {\n",
              "      background-color: #E8F0FE;\n",
              "      border: none;\n",
              "      border-radius: 50%;\n",
              "      cursor: pointer;\n",
              "      display: none;\n",
              "      fill: #1967D2;\n",
              "      height: 32px;\n",
              "      padding: 0 0 0 0;\n",
              "      width: 32px;\n",
              "    }\n",
              "\n",
              "    .colab-df-convert:hover {\n",
              "      background-color: #E2EBFA;\n",
              "      box-shadow: 0px 1px 2px rgba(60, 64, 67, 0.3), 0px 1px 3px 1px rgba(60, 64, 67, 0.15);\n",
              "      fill: #174EA6;\n",
              "    }\n",
              "\n",
              "    [theme=dark] .colab-df-convert {\n",
              "      background-color: #3B4455;\n",
              "      fill: #D2E3FC;\n",
              "    }\n",
              "\n",
              "    [theme=dark] .colab-df-convert:hover {\n",
              "      background-color: #434B5C;\n",
              "      box-shadow: 0px 1px 3px 1px rgba(0, 0, 0, 0.15);\n",
              "      filter: drop-shadow(0px 1px 2px rgba(0, 0, 0, 0.3));\n",
              "      fill: #FFFFFF;\n",
              "    }\n",
              "  </style>\n",
              "\n",
              "      <script>\n",
              "        const buttonEl =\n",
              "          document.querySelector('#df-4bc5e075-e224-47ba-85be-dda6660783aa button.colab-df-convert');\n",
              "        buttonEl.style.display =\n",
              "          google.colab.kernel.accessAllowed ? 'block' : 'none';\n",
              "\n",
              "        async function convertToInteractive(key) {\n",
              "          const element = document.querySelector('#df-4bc5e075-e224-47ba-85be-dda6660783aa');\n",
              "          const dataTable =\n",
              "            await google.colab.kernel.invokeFunction('convertToInteractive',\n",
              "                                                     [key], {});\n",
              "          if (!dataTable) return;\n",
              "\n",
              "          const docLinkHtml = 'Like what you see? Visit the ' +\n",
              "            '<a target=\"_blank\" href=https://colab.research.google.com/notebooks/data_table.ipynb>data table notebook</a>'\n",
              "            + ' to learn more about interactive tables.';\n",
              "          element.innerHTML = '';\n",
              "          dataTable['output_type'] = 'display_data';\n",
              "          await google.colab.output.renderOutput(dataTable, element);\n",
              "          const docLink = document.createElement('div');\n",
              "          docLink.innerHTML = docLinkHtml;\n",
              "          element.appendChild(docLink);\n",
              "        }\n",
              "      </script>\n",
              "    </div>\n",
              "  </div>\n",
              "  "
            ]
          },
          "metadata": {},
          "execution_count": 164
        }
      ],
      "source": [
        "df.describe()"
      ]
    },
    {
      "cell_type": "markdown",
      "source": [
        "## KNN"
      ],
      "metadata": {
        "id": "NnU1BkWfmikR"
      }
    },
    {
      "cell_type": "code",
      "execution_count": null,
      "metadata": {
        "id": "I-kFH3Ou6mCS"
      },
      "outputs": [],
      "source": [
        "df_knn = df[['listing.usableAreas',\t'listing.unitsOnTheFloor', 'listing.unitFloor',\t'listing.parkingSpaces',\t'listing.suites',\t'listing.bathrooms',\t'listing.bedrooms',\t'listing.pricingInfo.price']]"
      ]
    },
    {
      "cell_type": "code",
      "execution_count": null,
      "metadata": {
        "colab": {
          "base_uri": "https://localhost:8080/",
          "height": 488
        },
        "id": "m9I2VJqS8pQR",
        "outputId": "8101400d-aeed-45ee-f2e0-5a786adb42ad"
      },
      "outputs": [
        {
          "output_type": "execute_result",
          "data": {
            "text/plain": [
              "       listing.usableAreas  listing.unitsOnTheFloor  listing.unitFloor  \\\n",
              "0                    116.0                        2                  9   \n",
              "1                     62.0                        0                  0   \n",
              "2                     30.0                        0                  3   \n",
              "3                    140.0                        0                  0   \n",
              "4                    140.0                        0                  0   \n",
              "...                    ...                      ...                ...   \n",
              "34654                200.0                        0                  0   \n",
              "34730                400.0                        0                  0   \n",
              "34738                160.0                        0                  0   \n",
              "34779                554.0                        0                  0   \n",
              "34788                120.0                        0                  0   \n",
              "\n",
              "       listing.parkingSpaces  listing.suites  listing.bathrooms  \\\n",
              "0                          3               2                  4   \n",
              "1                          1               1                  2   \n",
              "2                          1               0                  2   \n",
              "3                          2               1                  2   \n",
              "4                          2               1                  2   \n",
              "...                      ...             ...                ...   \n",
              "34654                      4               4                  4   \n",
              "34730                      2               5                  7   \n",
              "34738                      2               1                  4   \n",
              "34779                      2               4                  5   \n",
              "34788                      2               1                  3   \n",
              "\n",
              "       listing.bedrooms  listing.pricingInfo.price  \n",
              "0                     3                   980000.0  \n",
              "1                     3                   330000.0  \n",
              "2                     0                   250000.0  \n",
              "3                     3                   280000.0  \n",
              "4                     3                   400000.0  \n",
              "...                 ...                        ...  \n",
              "34654                 4                   750000.0  \n",
              "34730                 5                   750000.0  \n",
              "34738                 3                   750000.0  \n",
              "34779                 4                   750000.0  \n",
              "34788                 3                   750000.0  \n",
              "\n",
              "[7948 rows x 8 columns]"
            ],
            "text/html": [
              "\n",
              "  <div id=\"df-635c317b-d7da-47f7-81f8-24a3d0375591\">\n",
              "    <div class=\"colab-df-container\">\n",
              "      <div>\n",
              "<style scoped>\n",
              "    .dataframe tbody tr th:only-of-type {\n",
              "        vertical-align: middle;\n",
              "    }\n",
              "\n",
              "    .dataframe tbody tr th {\n",
              "        vertical-align: top;\n",
              "    }\n",
              "\n",
              "    .dataframe thead th {\n",
              "        text-align: right;\n",
              "    }\n",
              "</style>\n",
              "<table border=\"1\" class=\"dataframe\">\n",
              "  <thead>\n",
              "    <tr style=\"text-align: right;\">\n",
              "      <th></th>\n",
              "      <th>listing.usableAreas</th>\n",
              "      <th>listing.unitsOnTheFloor</th>\n",
              "      <th>listing.unitFloor</th>\n",
              "      <th>listing.parkingSpaces</th>\n",
              "      <th>listing.suites</th>\n",
              "      <th>listing.bathrooms</th>\n",
              "      <th>listing.bedrooms</th>\n",
              "      <th>listing.pricingInfo.price</th>\n",
              "    </tr>\n",
              "  </thead>\n",
              "  <tbody>\n",
              "    <tr>\n",
              "      <th>0</th>\n",
              "      <td>116.0</td>\n",
              "      <td>2</td>\n",
              "      <td>9</td>\n",
              "      <td>3</td>\n",
              "      <td>2</td>\n",
              "      <td>4</td>\n",
              "      <td>3</td>\n",
              "      <td>980000.0</td>\n",
              "    </tr>\n",
              "    <tr>\n",
              "      <th>1</th>\n",
              "      <td>62.0</td>\n",
              "      <td>0</td>\n",
              "      <td>0</td>\n",
              "      <td>1</td>\n",
              "      <td>1</td>\n",
              "      <td>2</td>\n",
              "      <td>3</td>\n",
              "      <td>330000.0</td>\n",
              "    </tr>\n",
              "    <tr>\n",
              "      <th>2</th>\n",
              "      <td>30.0</td>\n",
              "      <td>0</td>\n",
              "      <td>3</td>\n",
              "      <td>1</td>\n",
              "      <td>0</td>\n",
              "      <td>2</td>\n",
              "      <td>0</td>\n",
              "      <td>250000.0</td>\n",
              "    </tr>\n",
              "    <tr>\n",
              "      <th>3</th>\n",
              "      <td>140.0</td>\n",
              "      <td>0</td>\n",
              "      <td>0</td>\n",
              "      <td>2</td>\n",
              "      <td>1</td>\n",
              "      <td>2</td>\n",
              "      <td>3</td>\n",
              "      <td>280000.0</td>\n",
              "    </tr>\n",
              "    <tr>\n",
              "      <th>4</th>\n",
              "      <td>140.0</td>\n",
              "      <td>0</td>\n",
              "      <td>0</td>\n",
              "      <td>2</td>\n",
              "      <td>1</td>\n",
              "      <td>2</td>\n",
              "      <td>3</td>\n",
              "      <td>400000.0</td>\n",
              "    </tr>\n",
              "    <tr>\n",
              "      <th>...</th>\n",
              "      <td>...</td>\n",
              "      <td>...</td>\n",
              "      <td>...</td>\n",
              "      <td>...</td>\n",
              "      <td>...</td>\n",
              "      <td>...</td>\n",
              "      <td>...</td>\n",
              "      <td>...</td>\n",
              "    </tr>\n",
              "    <tr>\n",
              "      <th>34654</th>\n",
              "      <td>200.0</td>\n",
              "      <td>0</td>\n",
              "      <td>0</td>\n",
              "      <td>4</td>\n",
              "      <td>4</td>\n",
              "      <td>4</td>\n",
              "      <td>4</td>\n",
              "      <td>750000.0</td>\n",
              "    </tr>\n",
              "    <tr>\n",
              "      <th>34730</th>\n",
              "      <td>400.0</td>\n",
              "      <td>0</td>\n",
              "      <td>0</td>\n",
              "      <td>2</td>\n",
              "      <td>5</td>\n",
              "      <td>7</td>\n",
              "      <td>5</td>\n",
              "      <td>750000.0</td>\n",
              "    </tr>\n",
              "    <tr>\n",
              "      <th>34738</th>\n",
              "      <td>160.0</td>\n",
              "      <td>0</td>\n",
              "      <td>0</td>\n",
              "      <td>2</td>\n",
              "      <td>1</td>\n",
              "      <td>4</td>\n",
              "      <td>3</td>\n",
              "      <td>750000.0</td>\n",
              "    </tr>\n",
              "    <tr>\n",
              "      <th>34779</th>\n",
              "      <td>554.0</td>\n",
              "      <td>0</td>\n",
              "      <td>0</td>\n",
              "      <td>2</td>\n",
              "      <td>4</td>\n",
              "      <td>5</td>\n",
              "      <td>4</td>\n",
              "      <td>750000.0</td>\n",
              "    </tr>\n",
              "    <tr>\n",
              "      <th>34788</th>\n",
              "      <td>120.0</td>\n",
              "      <td>0</td>\n",
              "      <td>0</td>\n",
              "      <td>2</td>\n",
              "      <td>1</td>\n",
              "      <td>3</td>\n",
              "      <td>3</td>\n",
              "      <td>750000.0</td>\n",
              "    </tr>\n",
              "  </tbody>\n",
              "</table>\n",
              "<p>7948 rows × 8 columns</p>\n",
              "</div>\n",
              "      <button class=\"colab-df-convert\" onclick=\"convertToInteractive('df-635c317b-d7da-47f7-81f8-24a3d0375591')\"\n",
              "              title=\"Convert this dataframe to an interactive table.\"\n",
              "              style=\"display:none;\">\n",
              "        \n",
              "  <svg xmlns=\"http://www.w3.org/2000/svg\" height=\"24px\"viewBox=\"0 0 24 24\"\n",
              "       width=\"24px\">\n",
              "    <path d=\"M0 0h24v24H0V0z\" fill=\"none\"/>\n",
              "    <path d=\"M18.56 5.44l.94 2.06.94-2.06 2.06-.94-2.06-.94-.94-2.06-.94 2.06-2.06.94zm-11 1L8.5 8.5l.94-2.06 2.06-.94-2.06-.94L8.5 2.5l-.94 2.06-2.06.94zm10 10l.94 2.06.94-2.06 2.06-.94-2.06-.94-.94-2.06-.94 2.06-2.06.94z\"/><path d=\"M17.41 7.96l-1.37-1.37c-.4-.4-.92-.59-1.43-.59-.52 0-1.04.2-1.43.59L10.3 9.45l-7.72 7.72c-.78.78-.78 2.05 0 2.83L4 21.41c.39.39.9.59 1.41.59.51 0 1.02-.2 1.41-.59l7.78-7.78 2.81-2.81c.8-.78.8-2.07 0-2.86zM5.41 20L4 18.59l7.72-7.72 1.47 1.35L5.41 20z\"/>\n",
              "  </svg>\n",
              "      </button>\n",
              "      \n",
              "  <style>\n",
              "    .colab-df-container {\n",
              "      display:flex;\n",
              "      flex-wrap:wrap;\n",
              "      gap: 12px;\n",
              "    }\n",
              "\n",
              "    .colab-df-convert {\n",
              "      background-color: #E8F0FE;\n",
              "      border: none;\n",
              "      border-radius: 50%;\n",
              "      cursor: pointer;\n",
              "      display: none;\n",
              "      fill: #1967D2;\n",
              "      height: 32px;\n",
              "      padding: 0 0 0 0;\n",
              "      width: 32px;\n",
              "    }\n",
              "\n",
              "    .colab-df-convert:hover {\n",
              "      background-color: #E2EBFA;\n",
              "      box-shadow: 0px 1px 2px rgba(60, 64, 67, 0.3), 0px 1px 3px 1px rgba(60, 64, 67, 0.15);\n",
              "      fill: #174EA6;\n",
              "    }\n",
              "\n",
              "    [theme=dark] .colab-df-convert {\n",
              "      background-color: #3B4455;\n",
              "      fill: #D2E3FC;\n",
              "    }\n",
              "\n",
              "    [theme=dark] .colab-df-convert:hover {\n",
              "      background-color: #434B5C;\n",
              "      box-shadow: 0px 1px 3px 1px rgba(0, 0, 0, 0.15);\n",
              "      filter: drop-shadow(0px 1px 2px rgba(0, 0, 0, 0.3));\n",
              "      fill: #FFFFFF;\n",
              "    }\n",
              "  </style>\n",
              "\n",
              "      <script>\n",
              "        const buttonEl =\n",
              "          document.querySelector('#df-635c317b-d7da-47f7-81f8-24a3d0375591 button.colab-df-convert');\n",
              "        buttonEl.style.display =\n",
              "          google.colab.kernel.accessAllowed ? 'block' : 'none';\n",
              "\n",
              "        async function convertToInteractive(key) {\n",
              "          const element = document.querySelector('#df-635c317b-d7da-47f7-81f8-24a3d0375591');\n",
              "          const dataTable =\n",
              "            await google.colab.kernel.invokeFunction('convertToInteractive',\n",
              "                                                     [key], {});\n",
              "          if (!dataTable) return;\n",
              "\n",
              "          const docLinkHtml = 'Like what you see? Visit the ' +\n",
              "            '<a target=\"_blank\" href=https://colab.research.google.com/notebooks/data_table.ipynb>data table notebook</a>'\n",
              "            + ' to learn more about interactive tables.';\n",
              "          element.innerHTML = '';\n",
              "          dataTable['output_type'] = 'display_data';\n",
              "          await google.colab.output.renderOutput(dataTable, element);\n",
              "          const docLink = document.createElement('div');\n",
              "          docLink.innerHTML = docLinkHtml;\n",
              "          element.appendChild(docLink);\n",
              "        }\n",
              "      </script>\n",
              "    </div>\n",
              "  </div>\n",
              "  "
            ]
          },
          "metadata": {},
          "execution_count": 8
        }
      ],
      "source": [
        "df_knn"
      ]
    },
    {
      "cell_type": "code",
      "execution_count": null,
      "metadata": {
        "colab": {
          "base_uri": "https://localhost:8080/"
        },
        "id": "85Y0Yuqb8qtR",
        "outputId": "700591e3-03a1-4045-c24c-eb7a47606020"
      },
      "outputs": [
        {
          "output_type": "execute_result",
          "data": {
            "text/plain": [
              "listing.usableAreas          0\n",
              "listing.unitsOnTheFloor      0\n",
              "listing.unitFloor            0\n",
              "listing.parkingSpaces        0\n",
              "listing.suites               0\n",
              "listing.bathrooms            0\n",
              "listing.bedrooms             0\n",
              "listing.pricingInfo.price    0\n",
              "dtype: int64"
            ]
          },
          "metadata": {},
          "execution_count": 9
        }
      ],
      "source": [
        "df_knn.isna().sum()"
      ]
    },
    {
      "cell_type": "code",
      "execution_count": null,
      "metadata": {
        "id": "EzeC9vJH-Kkn"
      },
      "outputs": [],
      "source": [
        "X = df_knn.drop('listing.pricingInfo.price', axis=1)\n",
        "y = df_knn['listing.pricingInfo.price']"
      ]
    },
    {
      "cell_type": "code",
      "execution_count": null,
      "metadata": {
        "id": "6XLHmuCA9zEF"
      },
      "outputs": [],
      "source": [
        "X_train , X_test, y_train, y_test = train_test_split(X, y, test_size = 0.2, random_state=42)"
      ]
    },
    {
      "cell_type": "code",
      "execution_count": null,
      "metadata": {
        "id": "vRSIDSDQ8zMx"
      },
      "outputs": [],
      "source": [
        "scaler = MinMaxScaler(feature_range=(0,1))\n",
        "\n",
        "X_train_scaled = pd.DataFrame(scaler.fit_transform(X_train))\n",
        "X_test_scaled = pd.DataFrame(scaler.fit_transform(X_test))\n",
        "y_train_scaled = pd.DataFrame(scaler.fit_transform(y_train.to_numpy().reshape(-1, 1)))\n",
        "y_test_scaled = pd.DataFrame(scaler.fit_transform(y_test.to_numpy().reshape(-1, 1)))"
      ]
    },
    {
      "cell_type": "code",
      "execution_count": null,
      "metadata": {
        "id": "E8u02IaEByXk"
      },
      "outputs": [],
      "source": [
        "knn_params = {\n",
        "    'n_neighbors' : range(1, 30, 2),\n",
        "    'weights' : ['uniform', 'distance'],\n",
        "    'metric' : ['euclidean', 'manhattan', 'minkowski'],\n",
        "    #'algorithm' : ['ball_tree', 'kd_tree', 'brute'],\n",
        "    #'leaf_size' : range(1, 50, 5)\n",
        "}"
      ]
    },
    {
      "cell_type": "code",
      "source": [
        "knn = neighbors.KNeighborsRegressor()\n",
        "model = GridSearchCV(knn, knn_params, cv=5)\n",
        "model.fit(X_train_scaled, y_train)\n",
        "model.best_params_"
      ],
      "metadata": {
        "colab": {
          "base_uri": "https://localhost:8080/"
        },
        "id": "VgRscEHUUHpg",
        "outputId": "e8f28b90-7fb6-4b40-9893-961b9f9cc0ff"
      },
      "execution_count": null,
      "outputs": [
        {
          "output_type": "execute_result",
          "data": {
            "text/plain": [
              "{'metric': 'manhattan', 'n_neighbors': 21, 'weights': 'uniform'}"
            ]
          },
          "metadata": {},
          "execution_count": 96
        }
      ]
    },
    {
      "cell_type": "code",
      "source": [
        "model = neighbors.KNeighborsRegressor(metric = 'manhattan',\n",
        "                                      n_neighbors =  21,\n",
        "                                      weights = 'uniform')\n",
        "model.fit(X_train_scaled, y_train)\n",
        "pred = model.predict(X_test_scaled)\n",
        "mse = mean_squared_error(y_test_scaled, pred)\n",
        "r2 = r2_score(y_test, pred)\n",
        "\n",
        "print('MSE:', mse)\n",
        "print('R^2:', r2)"
      ],
      "metadata": {
        "colab": {
          "base_uri": "https://localhost:8080/"
        },
        "id": "bDdVxgP4Txw9",
        "outputId": "5584ef55-e574-49d2-9ec9-856c48e7689f"
      },
      "execution_count": null,
      "outputs": [
        {
          "output_type": "stream",
          "name": "stdout",
          "text": [
            "MSE: 1011029074969.0493\n",
            "R^2: 0.011337140522659328\n"
          ]
        }
      ]
    },
    {
      "cell_type": "markdown",
      "source": [
        "## Linear Regression"
      ],
      "metadata": {
        "id": "lGUfsKUdmnNw"
      }
    },
    {
      "cell_type": "code",
      "source": [
        "pd.set_option('display.max_columns', None)"
      ],
      "metadata": {
        "id": "Nwyiq43Cojit"
      },
      "execution_count": null,
      "outputs": []
    },
    {
      "cell_type": "code",
      "source": [
        "df"
      ],
      "metadata": {
        "colab": {
          "base_uri": "https://localhost:8080/",
          "height": 488
        },
        "id": "PQ6PZDcJnRIg",
        "outputId": "7f9c0ef4-f450-4621-be71-8096cc782b71"
      },
      "execution_count": null,
      "outputs": [
        {
          "output_type": "execute_result",
          "data": {
            "text/plain": [
              "      listing.displayAddressType  listing.usableAreas listing.unitTypes  \\\n",
              "0                            ALL                116.0         APARTMENT   \n",
              "1                   NEIGHBORHOOD                 62.0         APARTMENT   \n",
              "2                            ALL                 30.0            OFFICE   \n",
              "3                            ALL                140.0              HOME   \n",
              "4                            ALL                140.0              HOME   \n",
              "...                          ...                  ...               ...   \n",
              "34654                     STREET                200.0              HOME   \n",
              "34730                     STREET                400.0       CONDOMINIUM   \n",
              "34738                        ALL                160.0              HOME   \n",
              "34779                        ALL                554.0       CONDOMINIUM   \n",
              "34788                     STREET                120.0         APARTMENT   \n",
              "\n",
              "       listing.unitsOnTheFloor listing.portal  listing.unitFloor  \\\n",
              "0                            2       GRUPOZAP                  9   \n",
              "1                            0       GRUPOZAP                  0   \n",
              "2                            0       GRUPOZAP                  3   \n",
              "3                            0       GRUPOZAP                  0   \n",
              "4                            0       GRUPOZAP                  0   \n",
              "...                        ...            ...                ...   \n",
              "34654                        0            ZAP                  0   \n",
              "34730                        0       GRUPOZAP                  0   \n",
              "34738                        0            ZAP                  0   \n",
              "34779                        0       GRUPOZAP                  0   \n",
              "34788                        0            ZAP                  0   \n",
              "\n",
              "       listing.parkingSpaces listing.address.level listing.address.precision  \\\n",
              "0                          3                STREET          GEOMETRIC_CENTER   \n",
              "1                          1                STREET                   ROOFTOP   \n",
              "2                          1                STREET                   ROOFTOP   \n",
              "3                          2                STREET          GEOMETRIC_CENTER   \n",
              "4                          2                STREET        RANGE_INTERPOLATED   \n",
              "...                      ...                   ...                       ...   \n",
              "34654                      4                  CITY               APPROXIMATE   \n",
              "34730                      2                STREET                   ROOFTOP   \n",
              "34738                      2                STREET                   ROOFTOP   \n",
              "34779                      2                  CITY               APPROXIMATE   \n",
              "34788                      2                STREET          GEOMETRIC_CENTER   \n",
              "\n",
              "      listing.address.zone listing.address.state  listing.suites  \\\n",
              "0                  Bairros                 Ceará               2   \n",
              "1                  Bairros             São Paulo               1   \n",
              "2               Zona Oeste             São Paulo               0   \n",
              "3                  Bairros             São Paulo               1   \n",
              "4               Zona Leste             São Paulo               1   \n",
              "...                    ...                   ...             ...   \n",
              "34654              Bairros             São Paulo               4   \n",
              "34730              Bairros                 Bahia               5   \n",
              "34738              Bairros        Rio de Janeiro               1   \n",
              "34779              Bairros                 Bahia               4   \n",
              "34788             Zona Sul        Rio de Janeiro               1   \n",
              "\n",
              "      listing.publicationType  listing.bathrooms listing.usageTypes  \\\n",
              "0               SUPER_PREMIUM                  4        RESIDENTIAL   \n",
              "1               SUPER_PREMIUM                  2        RESIDENTIAL   \n",
              "2               SUPER_PREMIUM                  2         COMMERCIAL   \n",
              "3                    STANDARD                  2        RESIDENTIAL   \n",
              "4                    STANDARD                  2        RESIDENTIAL   \n",
              "...                       ...                ...                ...   \n",
              "34654                STANDARD                  4        RESIDENTIAL   \n",
              "34730                STANDARD                  7        RESIDENTIAL   \n",
              "34738                 PREMIUM                  4        RESIDENTIAL   \n",
              "34779                STANDARD                  5        RESIDENTIAL   \n",
              "34788           SUPER_PREMIUM                  3        RESIDENTIAL   \n",
              "\n",
              "       listing.totalAreas  listing.bedrooms  listing.acceptExchange  \\\n",
              "0                     116                 3                   False   \n",
              "1                      62                 3                   False   \n",
              "2                     500                 0                   False   \n",
              "3                     500                 3                   False   \n",
              "4                     160                 3                   False   \n",
              "...                   ...               ...                     ...   \n",
              "34654                 200                 4                    True   \n",
              "34730                1200                 5                   False   \n",
              "34738                 500                 3                   False   \n",
              "34779                1108                 4                   False   \n",
              "34788                 120                 3                   False   \n",
              "\n",
              "       listing.isInactive  listing.pricingInfo.price  \\\n",
              "0                   False                   980000.0   \n",
              "1                   False                   330000.0   \n",
              "2                   False                   250000.0   \n",
              "3                   False                   280000.0   \n",
              "4                   False                   400000.0   \n",
              "...                   ...                        ...   \n",
              "34654               False                   750000.0   \n",
              "34730               False                   750000.0   \n",
              "34738               False                   750000.0   \n",
              "34779               False                   750000.0   \n",
              "34788               False                   750000.0   \n",
              "\n",
              "      listing.pricingInfo.businessType listing.pricingInfo.businessLabel  \\\n",
              "0                                 SALE                           Comprar   \n",
              "1                                 SALE                           Comprar   \n",
              "2                          SALE_RENTAL                    Comprar/Alugar   \n",
              "3                                 SALE                           Comprar   \n",
              "4                                 SALE                           Comprar   \n",
              "...                                ...                               ...   \n",
              "34654                      SALE_RENTAL                    Comprar/Alugar   \n",
              "34730                      SALE_RENTAL                    Comprar/Alugar   \n",
              "34738                      SALE_RENTAL                    Comprar/Alugar   \n",
              "34779                      SALE_RENTAL                    Comprar/Alugar   \n",
              "34788                      SALE_RENTAL                    Comprar/Alugar   \n",
              "\n",
              "      listing.businessTypeContext  listing.pool  listing.sauna  \\\n",
              "0                            SALE          True           True   \n",
              "1                            SALE         False          False   \n",
              "2                            SALE         False          False   \n",
              "3                            SALE         False          False   \n",
              "4                            SALE         False          False   \n",
              "...                           ...           ...            ...   \n",
              "34654                        SALE         False          False   \n",
              "34730                        SALE         False          False   \n",
              "34738                        SALE          True           True   \n",
              "34779                        SALE          True          False   \n",
              "34788                        SALE          True           True   \n",
              "\n",
              "       listing.backyard  listing.garden  listing.barbgrill  listing.partyhall  \\\n",
              "0                 False            True               True               True   \n",
              "1                 False           False              False              False   \n",
              "2                 False           False              False              False   \n",
              "3                 False           False               True              False   \n",
              "4                 False           False              False              False   \n",
              "...                 ...             ...                ...                ...   \n",
              "34654             False           False               True              False   \n",
              "34730              True            True               True               True   \n",
              "34738              True            True               True               True   \n",
              "34779             False            True               True               True   \n",
              "34788             False            True              False               True   \n",
              "\n",
              "       listing.tenniscourt  listing.sportcourt  listing.bathtub  \\\n",
              "0                     True                True            False   \n",
              "1                    False               False            False   \n",
              "2                    False               False            False   \n",
              "3                    False               False            False   \n",
              "4                    False               False            False   \n",
              "...                    ...                 ...              ...   \n",
              "34654                False               False            False   \n",
              "34730                 True                True            False   \n",
              "34738                False               False             True   \n",
              "34779                False               False            False   \n",
              "34788                False               False            False   \n",
              "\n",
              "       listing.soundproofing  listing.fireplace  listing.gym  listing.hottub  \\\n",
              "0                      False              False         True           False   \n",
              "1                      False              False        False           False   \n",
              "2                      False              False        False           False   \n",
              "3                      False              False        False           False   \n",
              "4                      False              False        False           False   \n",
              "...                      ...                ...          ...             ...   \n",
              "34654                  False               True        False           False   \n",
              "34730                  False              False        False           False   \n",
              "34738                  False              False         True           False   \n",
              "34779                  False              False        False           False   \n",
              "34788                  False              False         True           False   \n",
              "\n",
              "       listing.furnished  listing.guestpark  listing.playground  \\\n",
              "0                  False              False                True   \n",
              "1                  False              False               False   \n",
              "2                  False               True               False   \n",
              "3                  False              False               False   \n",
              "4                  False              False               False   \n",
              "...                  ...                ...                 ...   \n",
              "34654              False              False               False   \n",
              "34730               True              False               False   \n",
              "34738              False              False                True   \n",
              "34779               True              False               False   \n",
              "34788              False              False                True   \n",
              "\n",
              "       listing.mountainview classificacao_imovel  \n",
              "0                     False                Médio  \n",
              "1                     False                Médio  \n",
              "2                     False                Baixo  \n",
              "3                     False                Médio  \n",
              "4                     False                Médio  \n",
              "...                     ...                  ...  \n",
              "34654                 False                Médio  \n",
              "34730                 False                Médio  \n",
              "34738                 False                Médio  \n",
              "34779                 False                Médio  \n",
              "34788                 False                Médio  \n",
              "\n",
              "[7948 rows x 41 columns]"
            ],
            "text/html": [
              "\n",
              "  <div id=\"df-5a1c1fc7-d3f0-470a-8c6d-ae08544620af\">\n",
              "    <div class=\"colab-df-container\">\n",
              "      <div>\n",
              "<style scoped>\n",
              "    .dataframe tbody tr th:only-of-type {\n",
              "        vertical-align: middle;\n",
              "    }\n",
              "\n",
              "    .dataframe tbody tr th {\n",
              "        vertical-align: top;\n",
              "    }\n",
              "\n",
              "    .dataframe thead th {\n",
              "        text-align: right;\n",
              "    }\n",
              "</style>\n",
              "<table border=\"1\" class=\"dataframe\">\n",
              "  <thead>\n",
              "    <tr style=\"text-align: right;\">\n",
              "      <th></th>\n",
              "      <th>listing.displayAddressType</th>\n",
              "      <th>listing.usableAreas</th>\n",
              "      <th>listing.unitTypes</th>\n",
              "      <th>listing.unitsOnTheFloor</th>\n",
              "      <th>listing.portal</th>\n",
              "      <th>listing.unitFloor</th>\n",
              "      <th>listing.parkingSpaces</th>\n",
              "      <th>listing.address.level</th>\n",
              "      <th>listing.address.precision</th>\n",
              "      <th>listing.address.zone</th>\n",
              "      <th>listing.address.state</th>\n",
              "      <th>listing.suites</th>\n",
              "      <th>listing.publicationType</th>\n",
              "      <th>listing.bathrooms</th>\n",
              "      <th>listing.usageTypes</th>\n",
              "      <th>listing.totalAreas</th>\n",
              "      <th>listing.bedrooms</th>\n",
              "      <th>listing.acceptExchange</th>\n",
              "      <th>listing.isInactive</th>\n",
              "      <th>listing.pricingInfo.price</th>\n",
              "      <th>listing.pricingInfo.businessType</th>\n",
              "      <th>listing.pricingInfo.businessLabel</th>\n",
              "      <th>listing.businessTypeContext</th>\n",
              "      <th>listing.pool</th>\n",
              "      <th>listing.sauna</th>\n",
              "      <th>listing.backyard</th>\n",
              "      <th>listing.garden</th>\n",
              "      <th>listing.barbgrill</th>\n",
              "      <th>listing.partyhall</th>\n",
              "      <th>listing.tenniscourt</th>\n",
              "      <th>listing.sportcourt</th>\n",
              "      <th>listing.bathtub</th>\n",
              "      <th>listing.soundproofing</th>\n",
              "      <th>listing.fireplace</th>\n",
              "      <th>listing.gym</th>\n",
              "      <th>listing.hottub</th>\n",
              "      <th>listing.furnished</th>\n",
              "      <th>listing.guestpark</th>\n",
              "      <th>listing.playground</th>\n",
              "      <th>listing.mountainview</th>\n",
              "      <th>classificacao_imovel</th>\n",
              "    </tr>\n",
              "  </thead>\n",
              "  <tbody>\n",
              "    <tr>\n",
              "      <th>0</th>\n",
              "      <td>ALL</td>\n",
              "      <td>116.0</td>\n",
              "      <td>APARTMENT</td>\n",
              "      <td>2</td>\n",
              "      <td>GRUPOZAP</td>\n",
              "      <td>9</td>\n",
              "      <td>3</td>\n",
              "      <td>STREET</td>\n",
              "      <td>GEOMETRIC_CENTER</td>\n",
              "      <td>Bairros</td>\n",
              "      <td>Ceará</td>\n",
              "      <td>2</td>\n",
              "      <td>SUPER_PREMIUM</td>\n",
              "      <td>4</td>\n",
              "      <td>RESIDENTIAL</td>\n",
              "      <td>116</td>\n",
              "      <td>3</td>\n",
              "      <td>False</td>\n",
              "      <td>False</td>\n",
              "      <td>980000.0</td>\n",
              "      <td>SALE</td>\n",
              "      <td>Comprar</td>\n",
              "      <td>SALE</td>\n",
              "      <td>True</td>\n",
              "      <td>True</td>\n",
              "      <td>False</td>\n",
              "      <td>True</td>\n",
              "      <td>True</td>\n",
              "      <td>True</td>\n",
              "      <td>True</td>\n",
              "      <td>True</td>\n",
              "      <td>False</td>\n",
              "      <td>False</td>\n",
              "      <td>False</td>\n",
              "      <td>True</td>\n",
              "      <td>False</td>\n",
              "      <td>False</td>\n",
              "      <td>False</td>\n",
              "      <td>True</td>\n",
              "      <td>False</td>\n",
              "      <td>Médio</td>\n",
              "    </tr>\n",
              "    <tr>\n",
              "      <th>1</th>\n",
              "      <td>NEIGHBORHOOD</td>\n",
              "      <td>62.0</td>\n",
              "      <td>APARTMENT</td>\n",
              "      <td>0</td>\n",
              "      <td>GRUPOZAP</td>\n",
              "      <td>0</td>\n",
              "      <td>1</td>\n",
              "      <td>STREET</td>\n",
              "      <td>ROOFTOP</td>\n",
              "      <td>Bairros</td>\n",
              "      <td>São Paulo</td>\n",
              "      <td>1</td>\n",
              "      <td>SUPER_PREMIUM</td>\n",
              "      <td>2</td>\n",
              "      <td>RESIDENTIAL</td>\n",
              "      <td>62</td>\n",
              "      <td>3</td>\n",
              "      <td>False</td>\n",
              "      <td>False</td>\n",
              "      <td>330000.0</td>\n",
              "      <td>SALE</td>\n",
              "      <td>Comprar</td>\n",
              "      <td>SALE</td>\n",
              "      <td>False</td>\n",
              "      <td>False</td>\n",
              "      <td>False</td>\n",
              "      <td>False</td>\n",
              "      <td>False</td>\n",
              "      <td>False</td>\n",
              "      <td>False</td>\n",
              "      <td>False</td>\n",
              "      <td>False</td>\n",
              "      <td>False</td>\n",
              "      <td>False</td>\n",
              "      <td>False</td>\n",
              "      <td>False</td>\n",
              "      <td>False</td>\n",
              "      <td>False</td>\n",
              "      <td>False</td>\n",
              "      <td>False</td>\n",
              "      <td>Médio</td>\n",
              "    </tr>\n",
              "    <tr>\n",
              "      <th>2</th>\n",
              "      <td>ALL</td>\n",
              "      <td>30.0</td>\n",
              "      <td>OFFICE</td>\n",
              "      <td>0</td>\n",
              "      <td>GRUPOZAP</td>\n",
              "      <td>3</td>\n",
              "      <td>1</td>\n",
              "      <td>STREET</td>\n",
              "      <td>ROOFTOP</td>\n",
              "      <td>Zona Oeste</td>\n",
              "      <td>São Paulo</td>\n",
              "      <td>0</td>\n",
              "      <td>SUPER_PREMIUM</td>\n",
              "      <td>2</td>\n",
              "      <td>COMMERCIAL</td>\n",
              "      <td>500</td>\n",
              "      <td>0</td>\n",
              "      <td>False</td>\n",
              "      <td>False</td>\n",
              "      <td>250000.0</td>\n",
              "      <td>SALE_RENTAL</td>\n",
              "      <td>Comprar/Alugar</td>\n",
              "      <td>SALE</td>\n",
              "      <td>False</td>\n",
              "      <td>False</td>\n",
              "      <td>False</td>\n",
              "      <td>False</td>\n",
              "      <td>False</td>\n",
              "      <td>False</td>\n",
              "      <td>False</td>\n",
              "      <td>False</td>\n",
              "      <td>False</td>\n",
              "      <td>False</td>\n",
              "      <td>False</td>\n",
              "      <td>False</td>\n",
              "      <td>False</td>\n",
              "      <td>False</td>\n",
              "      <td>True</td>\n",
              "      <td>False</td>\n",
              "      <td>False</td>\n",
              "      <td>Baixo</td>\n",
              "    </tr>\n",
              "    <tr>\n",
              "      <th>3</th>\n",
              "      <td>ALL</td>\n",
              "      <td>140.0</td>\n",
              "      <td>HOME</td>\n",
              "      <td>0</td>\n",
              "      <td>GRUPOZAP</td>\n",
              "      <td>0</td>\n",
              "      <td>2</td>\n",
              "      <td>STREET</td>\n",
              "      <td>GEOMETRIC_CENTER</td>\n",
              "      <td>Bairros</td>\n",
              "      <td>São Paulo</td>\n",
              "      <td>1</td>\n",
              "      <td>STANDARD</td>\n",
              "      <td>2</td>\n",
              "      <td>RESIDENTIAL</td>\n",
              "      <td>500</td>\n",
              "      <td>3</td>\n",
              "      <td>False</td>\n",
              "      <td>False</td>\n",
              "      <td>280000.0</td>\n",
              "      <td>SALE</td>\n",
              "      <td>Comprar</td>\n",
              "      <td>SALE</td>\n",
              "      <td>False</td>\n",
              "      <td>False</td>\n",
              "      <td>False</td>\n",
              "      <td>False</td>\n",
              "      <td>True</td>\n",
              "      <td>False</td>\n",
              "      <td>False</td>\n",
              "      <td>False</td>\n",
              "      <td>False</td>\n",
              "      <td>False</td>\n",
              "      <td>False</td>\n",
              "      <td>False</td>\n",
              "      <td>False</td>\n",
              "      <td>False</td>\n",
              "      <td>False</td>\n",
              "      <td>False</td>\n",
              "      <td>False</td>\n",
              "      <td>Médio</td>\n",
              "    </tr>\n",
              "    <tr>\n",
              "      <th>4</th>\n",
              "      <td>ALL</td>\n",
              "      <td>140.0</td>\n",
              "      <td>HOME</td>\n",
              "      <td>0</td>\n",
              "      <td>GRUPOZAP</td>\n",
              "      <td>0</td>\n",
              "      <td>2</td>\n",
              "      <td>STREET</td>\n",
              "      <td>RANGE_INTERPOLATED</td>\n",
              "      <td>Zona Leste</td>\n",
              "      <td>São Paulo</td>\n",
              "      <td>1</td>\n",
              "      <td>STANDARD</td>\n",
              "      <td>2</td>\n",
              "      <td>RESIDENTIAL</td>\n",
              "      <td>160</td>\n",
              "      <td>3</td>\n",
              "      <td>False</td>\n",
              "      <td>False</td>\n",
              "      <td>400000.0</td>\n",
              "      <td>SALE</td>\n",
              "      <td>Comprar</td>\n",
              "      <td>SALE</td>\n",
              "      <td>False</td>\n",
              "      <td>False</td>\n",
              "      <td>False</td>\n",
              "      <td>False</td>\n",
              "      <td>False</td>\n",
              "      <td>False</td>\n",
              "      <td>False</td>\n",
              "      <td>False</td>\n",
              "      <td>False</td>\n",
              "      <td>False</td>\n",
              "      <td>False</td>\n",
              "      <td>False</td>\n",
              "      <td>False</td>\n",
              "      <td>False</td>\n",
              "      <td>False</td>\n",
              "      <td>False</td>\n",
              "      <td>False</td>\n",
              "      <td>Médio</td>\n",
              "    </tr>\n",
              "    <tr>\n",
              "      <th>...</th>\n",
              "      <td>...</td>\n",
              "      <td>...</td>\n",
              "      <td>...</td>\n",
              "      <td>...</td>\n",
              "      <td>...</td>\n",
              "      <td>...</td>\n",
              "      <td>...</td>\n",
              "      <td>...</td>\n",
              "      <td>...</td>\n",
              "      <td>...</td>\n",
              "      <td>...</td>\n",
              "      <td>...</td>\n",
              "      <td>...</td>\n",
              "      <td>...</td>\n",
              "      <td>...</td>\n",
              "      <td>...</td>\n",
              "      <td>...</td>\n",
              "      <td>...</td>\n",
              "      <td>...</td>\n",
              "      <td>...</td>\n",
              "      <td>...</td>\n",
              "      <td>...</td>\n",
              "      <td>...</td>\n",
              "      <td>...</td>\n",
              "      <td>...</td>\n",
              "      <td>...</td>\n",
              "      <td>...</td>\n",
              "      <td>...</td>\n",
              "      <td>...</td>\n",
              "      <td>...</td>\n",
              "      <td>...</td>\n",
              "      <td>...</td>\n",
              "      <td>...</td>\n",
              "      <td>...</td>\n",
              "      <td>...</td>\n",
              "      <td>...</td>\n",
              "      <td>...</td>\n",
              "      <td>...</td>\n",
              "      <td>...</td>\n",
              "      <td>...</td>\n",
              "      <td>...</td>\n",
              "    </tr>\n",
              "    <tr>\n",
              "      <th>34654</th>\n",
              "      <td>STREET</td>\n",
              "      <td>200.0</td>\n",
              "      <td>HOME</td>\n",
              "      <td>0</td>\n",
              "      <td>ZAP</td>\n",
              "      <td>0</td>\n",
              "      <td>4</td>\n",
              "      <td>CITY</td>\n",
              "      <td>APPROXIMATE</td>\n",
              "      <td>Bairros</td>\n",
              "      <td>São Paulo</td>\n",
              "      <td>4</td>\n",
              "      <td>STANDARD</td>\n",
              "      <td>4</td>\n",
              "      <td>RESIDENTIAL</td>\n",
              "      <td>200</td>\n",
              "      <td>4</td>\n",
              "      <td>True</td>\n",
              "      <td>False</td>\n",
              "      <td>750000.0</td>\n",
              "      <td>SALE_RENTAL</td>\n",
              "      <td>Comprar/Alugar</td>\n",
              "      <td>SALE</td>\n",
              "      <td>False</td>\n",
              "      <td>False</td>\n",
              "      <td>False</td>\n",
              "      <td>False</td>\n",
              "      <td>True</td>\n",
              "      <td>False</td>\n",
              "      <td>False</td>\n",
              "      <td>False</td>\n",
              "      <td>False</td>\n",
              "      <td>False</td>\n",
              "      <td>True</td>\n",
              "      <td>False</td>\n",
              "      <td>False</td>\n",
              "      <td>False</td>\n",
              "      <td>False</td>\n",
              "      <td>False</td>\n",
              "      <td>False</td>\n",
              "      <td>Médio</td>\n",
              "    </tr>\n",
              "    <tr>\n",
              "      <th>34730</th>\n",
              "      <td>STREET</td>\n",
              "      <td>400.0</td>\n",
              "      <td>CONDOMINIUM</td>\n",
              "      <td>0</td>\n",
              "      <td>GRUPOZAP</td>\n",
              "      <td>0</td>\n",
              "      <td>2</td>\n",
              "      <td>STREET</td>\n",
              "      <td>ROOFTOP</td>\n",
              "      <td>Bairros</td>\n",
              "      <td>Bahia</td>\n",
              "      <td>5</td>\n",
              "      <td>STANDARD</td>\n",
              "      <td>7</td>\n",
              "      <td>RESIDENTIAL</td>\n",
              "      <td>1200</td>\n",
              "      <td>5</td>\n",
              "      <td>False</td>\n",
              "      <td>False</td>\n",
              "      <td>750000.0</td>\n",
              "      <td>SALE_RENTAL</td>\n",
              "      <td>Comprar/Alugar</td>\n",
              "      <td>SALE</td>\n",
              "      <td>False</td>\n",
              "      <td>False</td>\n",
              "      <td>True</td>\n",
              "      <td>True</td>\n",
              "      <td>True</td>\n",
              "      <td>True</td>\n",
              "      <td>True</td>\n",
              "      <td>True</td>\n",
              "      <td>False</td>\n",
              "      <td>False</td>\n",
              "      <td>False</td>\n",
              "      <td>False</td>\n",
              "      <td>False</td>\n",
              "      <td>True</td>\n",
              "      <td>False</td>\n",
              "      <td>False</td>\n",
              "      <td>False</td>\n",
              "      <td>Médio</td>\n",
              "    </tr>\n",
              "    <tr>\n",
              "      <th>34738</th>\n",
              "      <td>ALL</td>\n",
              "      <td>160.0</td>\n",
              "      <td>HOME</td>\n",
              "      <td>0</td>\n",
              "      <td>ZAP</td>\n",
              "      <td>0</td>\n",
              "      <td>2</td>\n",
              "      <td>STREET</td>\n",
              "      <td>ROOFTOP</td>\n",
              "      <td>Bairros</td>\n",
              "      <td>Rio de Janeiro</td>\n",
              "      <td>1</td>\n",
              "      <td>PREMIUM</td>\n",
              "      <td>4</td>\n",
              "      <td>RESIDENTIAL</td>\n",
              "      <td>500</td>\n",
              "      <td>3</td>\n",
              "      <td>False</td>\n",
              "      <td>False</td>\n",
              "      <td>750000.0</td>\n",
              "      <td>SALE_RENTAL</td>\n",
              "      <td>Comprar/Alugar</td>\n",
              "      <td>SALE</td>\n",
              "      <td>True</td>\n",
              "      <td>True</td>\n",
              "      <td>True</td>\n",
              "      <td>True</td>\n",
              "      <td>True</td>\n",
              "      <td>True</td>\n",
              "      <td>False</td>\n",
              "      <td>False</td>\n",
              "      <td>True</td>\n",
              "      <td>False</td>\n",
              "      <td>False</td>\n",
              "      <td>True</td>\n",
              "      <td>False</td>\n",
              "      <td>False</td>\n",
              "      <td>False</td>\n",
              "      <td>True</td>\n",
              "      <td>False</td>\n",
              "      <td>Médio</td>\n",
              "    </tr>\n",
              "    <tr>\n",
              "      <th>34779</th>\n",
              "      <td>ALL</td>\n",
              "      <td>554.0</td>\n",
              "      <td>CONDOMINIUM</td>\n",
              "      <td>0</td>\n",
              "      <td>GRUPOZAP</td>\n",
              "      <td>0</td>\n",
              "      <td>2</td>\n",
              "      <td>CITY</td>\n",
              "      <td>APPROXIMATE</td>\n",
              "      <td>Bairros</td>\n",
              "      <td>Bahia</td>\n",
              "      <td>4</td>\n",
              "      <td>STANDARD</td>\n",
              "      <td>5</td>\n",
              "      <td>RESIDENTIAL</td>\n",
              "      <td>1108</td>\n",
              "      <td>4</td>\n",
              "      <td>False</td>\n",
              "      <td>False</td>\n",
              "      <td>750000.0</td>\n",
              "      <td>SALE_RENTAL</td>\n",
              "      <td>Comprar/Alugar</td>\n",
              "      <td>SALE</td>\n",
              "      <td>True</td>\n",
              "      <td>False</td>\n",
              "      <td>False</td>\n",
              "      <td>True</td>\n",
              "      <td>True</td>\n",
              "      <td>True</td>\n",
              "      <td>False</td>\n",
              "      <td>False</td>\n",
              "      <td>False</td>\n",
              "      <td>False</td>\n",
              "      <td>False</td>\n",
              "      <td>False</td>\n",
              "      <td>False</td>\n",
              "      <td>True</td>\n",
              "      <td>False</td>\n",
              "      <td>False</td>\n",
              "      <td>False</td>\n",
              "      <td>Médio</td>\n",
              "    </tr>\n",
              "    <tr>\n",
              "      <th>34788</th>\n",
              "      <td>STREET</td>\n",
              "      <td>120.0</td>\n",
              "      <td>APARTMENT</td>\n",
              "      <td>0</td>\n",
              "      <td>ZAP</td>\n",
              "      <td>0</td>\n",
              "      <td>2</td>\n",
              "      <td>STREET</td>\n",
              "      <td>GEOMETRIC_CENTER</td>\n",
              "      <td>Zona Sul</td>\n",
              "      <td>Rio de Janeiro</td>\n",
              "      <td>1</td>\n",
              "      <td>SUPER_PREMIUM</td>\n",
              "      <td>3</td>\n",
              "      <td>RESIDENTIAL</td>\n",
              "      <td>120</td>\n",
              "      <td>3</td>\n",
              "      <td>False</td>\n",
              "      <td>False</td>\n",
              "      <td>750000.0</td>\n",
              "      <td>SALE_RENTAL</td>\n",
              "      <td>Comprar/Alugar</td>\n",
              "      <td>SALE</td>\n",
              "      <td>True</td>\n",
              "      <td>True</td>\n",
              "      <td>False</td>\n",
              "      <td>True</td>\n",
              "      <td>False</td>\n",
              "      <td>True</td>\n",
              "      <td>False</td>\n",
              "      <td>False</td>\n",
              "      <td>False</td>\n",
              "      <td>False</td>\n",
              "      <td>False</td>\n",
              "      <td>True</td>\n",
              "      <td>False</td>\n",
              "      <td>False</td>\n",
              "      <td>False</td>\n",
              "      <td>True</td>\n",
              "      <td>False</td>\n",
              "      <td>Médio</td>\n",
              "    </tr>\n",
              "  </tbody>\n",
              "</table>\n",
              "<p>7948 rows × 41 columns</p>\n",
              "</div>\n",
              "      <button class=\"colab-df-convert\" onclick=\"convertToInteractive('df-5a1c1fc7-d3f0-470a-8c6d-ae08544620af')\"\n",
              "              title=\"Convert this dataframe to an interactive table.\"\n",
              "              style=\"display:none;\">\n",
              "        \n",
              "  <svg xmlns=\"http://www.w3.org/2000/svg\" height=\"24px\"viewBox=\"0 0 24 24\"\n",
              "       width=\"24px\">\n",
              "    <path d=\"M0 0h24v24H0V0z\" fill=\"none\"/>\n",
              "    <path d=\"M18.56 5.44l.94 2.06.94-2.06 2.06-.94-2.06-.94-.94-2.06-.94 2.06-2.06.94zm-11 1L8.5 8.5l.94-2.06 2.06-.94-2.06-.94L8.5 2.5l-.94 2.06-2.06.94zm10 10l.94 2.06.94-2.06 2.06-.94-2.06-.94-.94-2.06-.94 2.06-2.06.94z\"/><path d=\"M17.41 7.96l-1.37-1.37c-.4-.4-.92-.59-1.43-.59-.52 0-1.04.2-1.43.59L10.3 9.45l-7.72 7.72c-.78.78-.78 2.05 0 2.83L4 21.41c.39.39.9.59 1.41.59.51 0 1.02-.2 1.41-.59l7.78-7.78 2.81-2.81c.8-.78.8-2.07 0-2.86zM5.41 20L4 18.59l7.72-7.72 1.47 1.35L5.41 20z\"/>\n",
              "  </svg>\n",
              "      </button>\n",
              "      \n",
              "  <style>\n",
              "    .colab-df-container {\n",
              "      display:flex;\n",
              "      flex-wrap:wrap;\n",
              "      gap: 12px;\n",
              "    }\n",
              "\n",
              "    .colab-df-convert {\n",
              "      background-color: #E8F0FE;\n",
              "      border: none;\n",
              "      border-radius: 50%;\n",
              "      cursor: pointer;\n",
              "      display: none;\n",
              "      fill: #1967D2;\n",
              "      height: 32px;\n",
              "      padding: 0 0 0 0;\n",
              "      width: 32px;\n",
              "    }\n",
              "\n",
              "    .colab-df-convert:hover {\n",
              "      background-color: #E2EBFA;\n",
              "      box-shadow: 0px 1px 2px rgba(60, 64, 67, 0.3), 0px 1px 3px 1px rgba(60, 64, 67, 0.15);\n",
              "      fill: #174EA6;\n",
              "    }\n",
              "\n",
              "    [theme=dark] .colab-df-convert {\n",
              "      background-color: #3B4455;\n",
              "      fill: #D2E3FC;\n",
              "    }\n",
              "\n",
              "    [theme=dark] .colab-df-convert:hover {\n",
              "      background-color: #434B5C;\n",
              "      box-shadow: 0px 1px 3px 1px rgba(0, 0, 0, 0.15);\n",
              "      filter: drop-shadow(0px 1px 2px rgba(0, 0, 0, 0.3));\n",
              "      fill: #FFFFFF;\n",
              "    }\n",
              "  </style>\n",
              "\n",
              "      <script>\n",
              "        const buttonEl =\n",
              "          document.querySelector('#df-5a1c1fc7-d3f0-470a-8c6d-ae08544620af button.colab-df-convert');\n",
              "        buttonEl.style.display =\n",
              "          google.colab.kernel.accessAllowed ? 'block' : 'none';\n",
              "\n",
              "        async function convertToInteractive(key) {\n",
              "          const element = document.querySelector('#df-5a1c1fc7-d3f0-470a-8c6d-ae08544620af');\n",
              "          const dataTable =\n",
              "            await google.colab.kernel.invokeFunction('convertToInteractive',\n",
              "                                                     [key], {});\n",
              "          if (!dataTable) return;\n",
              "\n",
              "          const docLinkHtml = 'Like what you see? Visit the ' +\n",
              "            '<a target=\"_blank\" href=https://colab.research.google.com/notebooks/data_table.ipynb>data table notebook</a>'\n",
              "            + ' to learn more about interactive tables.';\n",
              "          element.innerHTML = '';\n",
              "          dataTable['output_type'] = 'display_data';\n",
              "          await google.colab.output.renderOutput(dataTable, element);\n",
              "          const docLink = document.createElement('div');\n",
              "          docLink.innerHTML = docLinkHtml;\n",
              "          element.appendChild(docLink);\n",
              "        }\n",
              "      </script>\n",
              "    </div>\n",
              "  </div>\n",
              "  "
            ]
          },
          "metadata": {},
          "execution_count": 68
        }
      ]
    },
    {
      "cell_type": "code",
      "source": [
        "for column in df:\n",
        "  if type(df[f'{column}'][0]) == str:\n",
        "    unique_values = len(df[f'{column}'].unique())\n",
        "    if unique_values <= 5:\n",
        "      print('Coluna:', column)\n",
        "      print('Valores únicos:', unique_values)\n",
        "      print()"
      ],
      "metadata": {
        "colab": {
          "base_uri": "https://localhost:8080/"
        },
        "id": "kko0f6dEaqnY",
        "outputId": "f0d3d58c-a10f-4914-e0f5-86fc5dee0f60"
      },
      "execution_count": null,
      "outputs": [
        {
          "output_type": "stream",
          "name": "stdout",
          "text": [
            "Coluna: listing.displayAddressType\n",
            "Valores únicos: 3\n",
            "\n",
            "Coluna: listing.portal\n",
            "Valores únicos: 2\n",
            "\n",
            "Coluna: listing.address.level\n",
            "Valores únicos: 5\n",
            "\n",
            "Coluna: listing.publicationType\n",
            "Valores únicos: 5\n",
            "\n",
            "Coluna: listing.usageTypes\n",
            "Valores únicos: 2\n",
            "\n",
            "Coluna: listing.pricingInfo.businessType\n",
            "Valores únicos: 2\n",
            "\n",
            "Coluna: listing.pricingInfo.businessLabel\n",
            "Valores únicos: 2\n",
            "\n",
            "Coluna: listing.businessTypeContext\n",
            "Valores únicos: 1\n",
            "\n",
            "Coluna: classificacao_imovel\n",
            "Valores únicos: 3\n",
            "\n"
          ]
        }
      ]
    },
    {
      "cell_type": "code",
      "source": [
        "df = df.drop(columns=['listing.portal',\n",
        "                     'listing.address.precision',\n",
        "                     'listing.address.zone',\n",
        "                     'listing.address.state',\n",
        "                     'listing.pricingInfo.businessLabel',\n",
        "                     'listing.businessTypeContext'], axis=1)"
      ],
      "metadata": {
        "id": "gpOB8nuHdt_P"
      },
      "execution_count": null,
      "outputs": []
    },
    {
      "cell_type": "code",
      "source": [
        "X = df[['listing.pricingInfo.businessType', 'listing.usageTypes', 'classificacao_imovel', 'listing.publicationType', 'listing.address.level', 'listing.displayAddressType']]\n",
        "ohe = OneHotEncoder(cols=['listing.pricingInfo.businessType', 'listing.usageTypes', 'classificacao_imovel', 'listing.publicationType', 'listing.address.level', 'listing.displayAddressType'])\n",
        "encoded = ohe.fit_transform(X)"
      ],
      "metadata": {
        "id": "bpgaJcJPg_gn"
      },
      "execution_count": null,
      "outputs": []
    },
    {
      "cell_type": "code",
      "source": [
        "df = df.merge(encoded, right_index=True, left_index=True, how='outer')"
      ],
      "metadata": {
        "id": "kvYaY-xriyHm"
      },
      "execution_count": null,
      "outputs": []
    },
    {
      "cell_type": "code",
      "source": [
        "df = df.drop(columns=['listing.displayAddressType', 'listing.unitTypes', 'listing.address.level', 'listing.publicationType', 'listing.usageTypes', 'listing.pricingInfo.businessType', 'classificacao_imovel'], axis=1)"
      ],
      "metadata": {
        "id": "a2sYdgENk36l"
      },
      "execution_count": null,
      "outputs": []
    },
    {
      "cell_type": "code",
      "source": [
        "X = df.drop('listing.pricingInfo.price', axis=1)\n",
        "y = df['listing.pricingInfo.price']"
      ],
      "metadata": {
        "id": "s9KLPfcqmBjN"
      },
      "execution_count": null,
      "outputs": []
    },
    {
      "cell_type": "code",
      "source": [
        "X_train , X_test, y_train, y_test = train_test_split(X, y, test_size = 0.2, random_state=42)"
      ],
      "metadata": {
        "id": "gz2sYm8wnOiv"
      },
      "execution_count": null,
      "outputs": []
    },
    {
      "cell_type": "code",
      "source": [
        "scaler = MinMaxScaler(feature_range=(0,1))\n",
        "\n",
        "X_train_scaled = pd.DataFrame(scaler.fit_transform(X_train))\n",
        "X_test_scaled = pd.DataFrame(scaler.fit_transform(X_test))\n",
        "y_train_scaled = pd.DataFrame(scaler.fit_transform(y_train.to_numpy().reshape(-1, 1)))\n",
        "y_test_scaled = pd.DataFrame(scaler.fit_transform(y_test.to_numpy().reshape(-1, 1)))"
      ],
      "metadata": {
        "id": "3C_NXu9HneMm"
      },
      "execution_count": null,
      "outputs": []
    },
    {
      "cell_type": "code",
      "source": [
        "lin_reg_params = {'learning_rate': [0.02,0.04,0.002,0.004],\n",
        "                  'subsample'    : [0.9, 0.5, 0.2, 0.1],\n",
        "                  'n_estimators' : [100,500,1000, 1500],\n",
        "                  'max_depth'    : [4,6,8,10]\n",
        "                 }"
      ],
      "metadata": {
        "id": "DpfFUz8CrHd1"
      },
      "execution_count": null,
      "outputs": []
    },
    {
      "cell_type": "markdown",
      "source": [
        "### GBM"
      ],
      "metadata": {
        "id": "IrwgDXScBAFj"
      }
    },
    {
      "cell_type": "code",
      "source": [
        "GBR = GradientBoostingRegressor()\n",
        "grid_GBR = GridSearchCV(estimator=GBR, param_grid = lin_reg_params, cv = 2, n_jobs=-1)\n",
        "grid_GBR.fit(X_train_scaled, y_train_scaled)"
      ],
      "metadata": {
        "colab": {
          "base_uri": "https://localhost:8080/",
          "height": 311
        },
        "id": "OdKqOShWutE0",
        "outputId": "5b604758-ee3c-4d4f-ab8c-bbcf1f36e41e"
      },
      "execution_count": null,
      "outputs": [
        {
          "output_type": "stream",
          "name": "stderr",
          "text": [
            "/usr/local/lib/python3.10/dist-packages/sklearn/ensemble/_gb.py:437: DataConversionWarning: A column-vector y was passed when a 1d array was expected. Please change the shape of y to (n_samples, ), for example using ravel().\n",
            "  y = column_or_1d(y, warn=True)\n"
          ]
        },
        {
          "output_type": "execute_result",
          "data": {
            "text/plain": [
              "GridSearchCV(cv=2, estimator=GradientBoostingRegressor(), n_jobs=-1,\n",
              "             param_grid={'learning_rate': [0.02, 0.04, 0.002, 0.004],\n",
              "                         'max_depth': [4, 6, 8, 10],\n",
              "                         'n_estimators': [100, 500, 1000, 1500],\n",
              "                         'subsample': [0.9, 0.5, 0.2, 0.1]})"
            ],
            "text/html": [
              "<style>#sk-container-id-2 {color: black;background-color: white;}#sk-container-id-2 pre{padding: 0;}#sk-container-id-2 div.sk-toggleable {background-color: white;}#sk-container-id-2 label.sk-toggleable__label {cursor: pointer;display: block;width: 100%;margin-bottom: 0;padding: 0.3em;box-sizing: border-box;text-align: center;}#sk-container-id-2 label.sk-toggleable__label-arrow:before {content: \"▸\";float: left;margin-right: 0.25em;color: #696969;}#sk-container-id-2 label.sk-toggleable__label-arrow:hover:before {color: black;}#sk-container-id-2 div.sk-estimator:hover label.sk-toggleable__label-arrow:before {color: black;}#sk-container-id-2 div.sk-toggleable__content {max-height: 0;max-width: 0;overflow: hidden;text-align: left;background-color: #f0f8ff;}#sk-container-id-2 div.sk-toggleable__content pre {margin: 0.2em;color: black;border-radius: 0.25em;background-color: #f0f8ff;}#sk-container-id-2 input.sk-toggleable__control:checked~div.sk-toggleable__content {max-height: 200px;max-width: 100%;overflow: auto;}#sk-container-id-2 input.sk-toggleable__control:checked~label.sk-toggleable__label-arrow:before {content: \"▾\";}#sk-container-id-2 div.sk-estimator input.sk-toggleable__control:checked~label.sk-toggleable__label {background-color: #d4ebff;}#sk-container-id-2 div.sk-label input.sk-toggleable__control:checked~label.sk-toggleable__label {background-color: #d4ebff;}#sk-container-id-2 input.sk-hidden--visually {border: 0;clip: rect(1px 1px 1px 1px);clip: rect(1px, 1px, 1px, 1px);height: 1px;margin: -1px;overflow: hidden;padding: 0;position: absolute;width: 1px;}#sk-container-id-2 div.sk-estimator {font-family: monospace;background-color: #f0f8ff;border: 1px dotted black;border-radius: 0.25em;box-sizing: border-box;margin-bottom: 0.5em;}#sk-container-id-2 div.sk-estimator:hover {background-color: #d4ebff;}#sk-container-id-2 div.sk-parallel-item::after {content: \"\";width: 100%;border-bottom: 1px solid gray;flex-grow: 1;}#sk-container-id-2 div.sk-label:hover label.sk-toggleable__label {background-color: #d4ebff;}#sk-container-id-2 div.sk-serial::before {content: \"\";position: absolute;border-left: 1px solid gray;box-sizing: border-box;top: 0;bottom: 0;left: 50%;z-index: 0;}#sk-container-id-2 div.sk-serial {display: flex;flex-direction: column;align-items: center;background-color: white;padding-right: 0.2em;padding-left: 0.2em;position: relative;}#sk-container-id-2 div.sk-item {position: relative;z-index: 1;}#sk-container-id-2 div.sk-parallel {display: flex;align-items: stretch;justify-content: center;background-color: white;position: relative;}#sk-container-id-2 div.sk-item::before, #sk-container-id-2 div.sk-parallel-item::before {content: \"\";position: absolute;border-left: 1px solid gray;box-sizing: border-box;top: 0;bottom: 0;left: 50%;z-index: -1;}#sk-container-id-2 div.sk-parallel-item {display: flex;flex-direction: column;z-index: 1;position: relative;background-color: white;}#sk-container-id-2 div.sk-parallel-item:first-child::after {align-self: flex-end;width: 50%;}#sk-container-id-2 div.sk-parallel-item:last-child::after {align-self: flex-start;width: 50%;}#sk-container-id-2 div.sk-parallel-item:only-child::after {width: 0;}#sk-container-id-2 div.sk-dashed-wrapped {border: 1px dashed gray;margin: 0 0.4em 0.5em 0.4em;box-sizing: border-box;padding-bottom: 0.4em;background-color: white;}#sk-container-id-2 div.sk-label label {font-family: monospace;font-weight: bold;display: inline-block;line-height: 1.2em;}#sk-container-id-2 div.sk-label-container {text-align: center;}#sk-container-id-2 div.sk-container {/* jupyter's `normalize.less` sets `[hidden] { display: none; }` but bootstrap.min.css set `[hidden] { display: none !important; }` so we also need the `!important` here to be able to override the default hidden behavior on the sphinx rendered scikit-learn.org. See: https://github.com/scikit-learn/scikit-learn/issues/21755 */display: inline-block !important;position: relative;}#sk-container-id-2 div.sk-text-repr-fallback {display: none;}</style><div id=\"sk-container-id-2\" class=\"sk-top-container\"><div class=\"sk-text-repr-fallback\"><pre>GridSearchCV(cv=2, estimator=GradientBoostingRegressor(), n_jobs=-1,\n",
              "             param_grid={&#x27;learning_rate&#x27;: [0.02, 0.04, 0.002, 0.004],\n",
              "                         &#x27;max_depth&#x27;: [4, 6, 8, 10],\n",
              "                         &#x27;n_estimators&#x27;: [100, 500, 1000, 1500],\n",
              "                         &#x27;subsample&#x27;: [0.9, 0.5, 0.2, 0.1]})</pre><b>In a Jupyter environment, please rerun this cell to show the HTML representation or trust the notebook. <br />On GitHub, the HTML representation is unable to render, please try loading this page with nbviewer.org.</b></div><div class=\"sk-container\" hidden><div class=\"sk-item sk-dashed-wrapped\"><div class=\"sk-label-container\"><div class=\"sk-label sk-toggleable\"><input class=\"sk-toggleable__control sk-hidden--visually\" id=\"sk-estimator-id-4\" type=\"checkbox\" ><label for=\"sk-estimator-id-4\" class=\"sk-toggleable__label sk-toggleable__label-arrow\">GridSearchCV</label><div class=\"sk-toggleable__content\"><pre>GridSearchCV(cv=2, estimator=GradientBoostingRegressor(), n_jobs=-1,\n",
              "             param_grid={&#x27;learning_rate&#x27;: [0.02, 0.04, 0.002, 0.004],\n",
              "                         &#x27;max_depth&#x27;: [4, 6, 8, 10],\n",
              "                         &#x27;n_estimators&#x27;: [100, 500, 1000, 1500],\n",
              "                         &#x27;subsample&#x27;: [0.9, 0.5, 0.2, 0.1]})</pre></div></div></div><div class=\"sk-parallel\"><div class=\"sk-parallel-item\"><div class=\"sk-item\"><div class=\"sk-label-container\"><div class=\"sk-label sk-toggleable\"><input class=\"sk-toggleable__control sk-hidden--visually\" id=\"sk-estimator-id-5\" type=\"checkbox\" ><label for=\"sk-estimator-id-5\" class=\"sk-toggleable__label sk-toggleable__label-arrow\">estimator: GradientBoostingRegressor</label><div class=\"sk-toggleable__content\"><pre>GradientBoostingRegressor()</pre></div></div></div><div class=\"sk-serial\"><div class=\"sk-item\"><div class=\"sk-estimator sk-toggleable\"><input class=\"sk-toggleable__control sk-hidden--visually\" id=\"sk-estimator-id-6\" type=\"checkbox\" ><label for=\"sk-estimator-id-6\" class=\"sk-toggleable__label sk-toggleable__label-arrow\">GradientBoostingRegressor</label><div class=\"sk-toggleable__content\"><pre>GradientBoostingRegressor()</pre></div></div></div></div></div></div></div></div></div></div>"
            ]
          },
          "metadata": {},
          "execution_count": 101
        }
      ]
    },
    {
      "cell_type": "code",
      "source": [
        "print(\" Results from Grid Search \" )\n",
        "print(\"\\n The best estimator across ALL searched params:\\n\",grid_GBR.best_estimator_)\n",
        "print(\"\\n The best score across ALL searched params:\\n\",grid_GBR.best_score_)\n",
        "print(\"\\n The best parameters across ALL searched params:\\n\",grid_GBR.best_params_)"
      ],
      "metadata": {
        "colab": {
          "base_uri": "https://localhost:8080/"
        },
        "id": "lbuZKyoDus9k",
        "outputId": "7a9c1f98-23d2-443f-da60-e4f304efd5e1"
      },
      "execution_count": null,
      "outputs": [
        {
          "output_type": "stream",
          "name": "stdout",
          "text": [
            " Results from Grid Search \n",
            "\n",
            " The best estimator across ALL searched params:\n",
            " GradientBoostingRegressor(learning_rate=0.002, max_depth=8, n_estimators=500,\n",
            "                          subsample=0.1)\n",
            "\n",
            " The best score across ALL searched params:\n",
            " 0.10576897533648072\n",
            "\n",
            " The best parameters across ALL searched params:\n",
            " {'learning_rate': 0.002, 'max_depth': 8, 'n_estimators': 500, 'subsample': 0.1}\n"
          ]
        }
      ]
    },
    {
      "cell_type": "code",
      "source": [
        "gbr = GradientBoostingRegressor(learning_rate = 0.002, max_depth = 8, n_estimators = 500, subsample = 0.1)\n",
        "gbr.fit(X_train_scaled, y_train_scaled.to_numpy().reshape(-1))\n",
        "pred = gbr.predict(X_test_scaled)"
      ],
      "metadata": {
        "id": "W5EPPy9s1LAz"
      },
      "execution_count": null,
      "outputs": []
    },
    {
      "cell_type": "code",
      "source": [
        "mse = mean_squared_error(y_test_scaled, pred)\n",
        "r2 = r2_score(y_test, pred)\n",
        "\n",
        "print('MSE:', mse)\n",
        "print('R^2:', abs(r2))"
      ],
      "metadata": {
        "colab": {
          "base_uri": "https://localhost:8080/"
        },
        "id": "ATTZKJCs1gta",
        "outputId": "a9e286f4-6a68-47f3-8dd5-a253df006d16"
      },
      "execution_count": null,
      "outputs": [
        {
          "output_type": "stream",
          "name": "stdout",
          "text": [
            "MSE: 0.005295518466185895\n",
            "R^2: 0.37212537408840296\n"
          ]
        }
      ]
    },
    {
      "cell_type": "markdown",
      "source": [
        "### Classic Linear Regression"
      ],
      "metadata": {
        "id": "jEbAUYfjBD1B"
      }
    },
    {
      "cell_type": "code",
      "source": [
        "linreg = LinearRegression()\n",
        "linreg.fit(X_train_scaled, y_train_scaled)\n",
        "pred = linreg.predict(X_test_scaled)"
      ],
      "metadata": {
        "id": "vz82fsFGBFrI"
      },
      "execution_count": null,
      "outputs": []
    },
    {
      "cell_type": "code",
      "source": [
        "mse = mean_squared_error(y_test_scaled, pred)\n",
        "r2 = r2_score(y_test, pred)\n",
        "\n",
        "print('MSE:', mse)\n",
        "print('R^2:', abs(r2))"
      ],
      "metadata": {
        "colab": {
          "base_uri": "https://localhost:8080/"
        },
        "id": "o3XGgavwBaBU",
        "outputId": "8da08060-2f9b-4cc6-c478-29d1b73bf30b"
      },
      "execution_count": null,
      "outputs": [
        {
          "output_type": "stream",
          "name": "stdout",
          "text": [
            "MSE: 0.00463722265031081\n",
            "R^2: 0.37212536392702056\n"
          ]
        }
      ]
    },
    {
      "cell_type": "markdown",
      "source": [
        "### Ridge (l1 regularization)"
      ],
      "metadata": {
        "id": "CslIFzCYCS5B"
      }
    },
    {
      "cell_type": "code",
      "source": [
        "ridge = Ridge(alpha=1.0)\n",
        "ridge.fit(X_train_scaled, y_train_scaled)\n",
        "pred = ridge.predict(X_test_scaled)"
      ],
      "metadata": {
        "id": "jx3Gfg9nCVBR"
      },
      "execution_count": null,
      "outputs": []
    },
    {
      "cell_type": "code",
      "source": [
        "mse = mean_squared_error(y_test_scaled, pred)\n",
        "r2 = r2_score(y_test, pred)\n",
        "\n",
        "print('MSE:', mse)\n",
        "print('R^2:', abs(r2))"
      ],
      "metadata": {
        "colab": {
          "base_uri": "https://localhost:8080/"
        },
        "id": "zqRjb4GLCmTA",
        "outputId": "453f9b71-0b48-4e1f-a00b-3b232bcb7a80"
      },
      "execution_count": null,
      "outputs": [
        {
          "output_type": "stream",
          "name": "stdout",
          "text": [
            "MSE: 0.0048045838398594444\n",
            "R^2: 0.3721253670059803\n"
          ]
        }
      ]
    },
    {
      "cell_type": "code",
      "source": [],
      "metadata": {
        "id": "BjXt2WwECuPx"
      },
      "execution_count": null,
      "outputs": []
    },
    {
      "cell_type": "markdown",
      "source": [
        "# Classificação"
      ],
      "metadata": {
        "id": "ZOQ60aZ9mpuw"
      }
    },
    {
      "cell_type": "markdown",
      "source": [
        "## Imports"
      ],
      "metadata": {
        "id": "MbdshmCu7zNU"
      }
    },
    {
      "cell_type": "code",
      "execution_count": null,
      "metadata": {
        "id": "Zds3oSa523QL"
      },
      "outputs": [],
      "source": [
        "import numpy as np\n",
        "import pandas as pd\n",
        "import matplotlib.pyplot as plt\n",
        "from sklearn.model_selection import train_test_split\n",
        "from sklearn.preprocessing import StandardScaler\n",
        "from sklearn.tree import DecisionTreeClassifier\n",
        "from sklearn.linear_model import LogisticRegression\n",
        "from sklearn.ensemble import RandomForestClassifier\n",
        "from sklearn.metrics import accuracy_score, confusion_matrix,ConfusionMatrixDisplay\n",
        "from sklearn.feature_selection import RFECV"
      ]
    },
    {
      "cell_type": "markdown",
      "source": [
        "## Read Data/Preprocess"
      ],
      "metadata": {
        "id": "eeB0VZcc8IWr"
      }
    },
    {
      "cell_type": "markdown",
      "source": [
        "### Remove original price column and index"
      ],
      "metadata": {
        "id": "fAO46E2z85jz"
      }
    },
    {
      "cell_type": "code",
      "source": [
        "data = pd.read_csv('dados_limpos_atualizado_v2.csv')\n",
        "data.drop(columns = ['Unnamed: 0', 'listing.pricingInfo.price'], inplace = True)"
      ],
      "metadata": {
        "id": "SDOsgRiv2-QQ"
      },
      "execution_count": null,
      "outputs": []
    },
    {
      "cell_type": "markdown",
      "source": [
        "### Fill NaN values"
      ],
      "metadata": {
        "id": "eRdAeoC48-jb"
      }
    },
    {
      "cell_type": "code",
      "source": [
        "data.isna().sum()"
      ],
      "metadata": {
        "colab": {
          "base_uri": "https://localhost:8080/"
        },
        "id": "ErSG7Km28abT",
        "outputId": "e6baa568-7c84-4fe6-f7a0-069014c1910c"
      },
      "execution_count": null,
      "outputs": [
        {
          "output_type": "execute_result",
          "data": {
            "text/plain": [
              "listing.displayAddressType             0\n",
              "listing.usableAreas                    0\n",
              "listing.unitTypes                      0\n",
              "listing.unitsOnTheFloor                0\n",
              "listing.portal                         0\n",
              "listing.unitFloor                      0\n",
              "listing.parkingSpaces                  0\n",
              "listing.address.level                  0\n",
              "listing.address.precision              0\n",
              "listing.address.zone                 206\n",
              "listing.address.state                  0\n",
              "listing.suites                         0\n",
              "listing.publicationType                0\n",
              "listing.bathrooms                      0\n",
              "listing.usageTypes                     0\n",
              "listing.totalAreas                     0\n",
              "listing.bedrooms                       0\n",
              "listing.acceptExchange                 0\n",
              "listing.isInactive                     0\n",
              "listing.pricingInfo.businessType       0\n",
              "listing.pricingInfo.businessLabel      0\n",
              "listing.businessTypeContext            0\n",
              "listing.pool                           0\n",
              "listing.sauna                          0\n",
              "listing.backyard                       0\n",
              "listing.garden                         0\n",
              "listing.barbgrill                      0\n",
              "listing.partyhall                      0\n",
              "listing.tenniscourt                    0\n",
              "listing.sportcourt                     0\n",
              "listing.bathtub                        0\n",
              "listing.soundproofing                  0\n",
              "listing.fireplace                      0\n",
              "listing.gym                            0\n",
              "listing.hottub                         0\n",
              "listing.furnished                      0\n",
              "listing.guestpark                      0\n",
              "listing.playground                     0\n",
              "listing.mountainview                   0\n",
              "classificacao_imovel                   0\n",
              "dtype: int64"
            ]
          },
          "metadata": {},
          "execution_count": 3
        }
      ]
    },
    {
      "cell_type": "code",
      "source": [
        "data['listing.address.zone'].value_counts()"
      ],
      "metadata": {
        "colab": {
          "base_uri": "https://localhost:8080/"
        },
        "id": "xp0yW_666YPk",
        "outputId": "fc2f93ee-72ad-4baf-f5c8-c4216857e4ff"
      },
      "execution_count": null,
      "outputs": [
        {
          "output_type": "execute_result",
          "data": {
            "text/plain": [
              "Bairros               5794\n",
              "Zona Sul               790\n",
              "Zona Oeste             559\n",
              "Zona Norte             258\n",
              "Zona Leste             180\n",
              "Centro                 117\n",
              "normal                  26\n",
              "Zona Central            16\n",
              "Ilha do Governador       2\n",
              "Name: listing.address.zone, dtype: int64"
            ]
          },
          "metadata": {},
          "execution_count": 4
        }
      ]
    },
    {
      "cell_type": "code",
      "source": [
        "data['listing.address.zone'] = data['listing.address.zone'].fillna('Bairros')"
      ],
      "metadata": {
        "id": "oExOc39eAeOC"
      },
      "execution_count": null,
      "outputs": []
    },
    {
      "cell_type": "code",
      "source": [
        "data['listing.address.zone'].value_counts()"
      ],
      "metadata": {
        "colab": {
          "base_uri": "https://localhost:8080/"
        },
        "id": "G4eY3MpbBYia",
        "outputId": "83fb166f-1583-44b9-c6bd-802662773fdf"
      },
      "execution_count": null,
      "outputs": [
        {
          "output_type": "execute_result",
          "data": {
            "text/plain": [
              "Bairros               6000\n",
              "Zona Sul               790\n",
              "Zona Oeste             559\n",
              "Zona Norte             258\n",
              "Zona Leste             180\n",
              "Centro                 117\n",
              "normal                  26\n",
              "Zona Central            16\n",
              "Ilha do Governador       2\n",
              "Name: listing.address.zone, dtype: int64"
            ]
          },
          "metadata": {},
          "execution_count": 6
        }
      ]
    },
    {
      "cell_type": "code",
      "source": [
        "df = data.copy()"
      ],
      "metadata": {
        "id": "t6euQONnBgpg"
      },
      "execution_count": null,
      "outputs": []
    },
    {
      "cell_type": "markdown",
      "source": [
        "### Separate train/test\n",
        "\n"
      ],
      "metadata": {
        "id": "DW_2uAKD9NOC"
      }
    },
    {
      "cell_type": "code",
      "source": [
        "features = df.drop(columns = 'classificacao_imovel')\n",
        "target = df['classificacao_imovel']\n",
        "types = features.dtypes"
      ],
      "metadata": {
        "id": "iofUwyUuQY4T"
      },
      "execution_count": null,
      "outputs": []
    },
    {
      "cell_type": "code",
      "source": [
        "train_index, test_index = train_test_split(features.index, random_state=42)\n",
        "target_train = target[train_index]\n",
        "target_test = target[test_index]"
      ],
      "metadata": {
        "id": "mmGbt-oOYd1r"
      },
      "execution_count": null,
      "outputs": []
    },
    {
      "cell_type": "code",
      "source": [
        "target.value_counts()/len(target)"
      ],
      "metadata": {
        "id": "rra1PFObXSRc",
        "outputId": "ccfe83ad-883f-433f-c750-31d00ae31dfc",
        "colab": {
          "base_uri": "https://localhost:8080/"
        }
      },
      "execution_count": null,
      "outputs": [
        {
          "output_type": "execute_result",
          "data": {
            "text/plain": [
              "Médio    0.532335\n",
              "Baixo    0.250503\n",
              "Alto     0.217162\n",
              "Name: classificacao_imovel, dtype: float64"
            ]
          },
          "metadata": {},
          "execution_count": 10
        }
      ]
    },
    {
      "cell_type": "code",
      "source": [
        "target_train.value_counts()/len(target_train)"
      ],
      "metadata": {
        "colab": {
          "base_uri": "https://localhost:8080/"
        },
        "id": "lnqScpc7x6fU",
        "outputId": "ff336ac1-8873-4282-de2a-d0fcd75e0b2f"
      },
      "execution_count": null,
      "outputs": [
        {
          "output_type": "execute_result",
          "data": {
            "text/plain": [
              "Médio    0.535648\n",
              "Baixo    0.245932\n",
              "Alto     0.218420\n",
              "Name: classificacao_imovel, dtype: float64"
            ]
          },
          "metadata": {},
          "execution_count": 11
        }
      ]
    },
    {
      "cell_type": "code",
      "source": [
        "target_test.value_counts()/len(target_test)"
      ],
      "metadata": {
        "colab": {
          "base_uri": "https://localhost:8080/"
        },
        "id": "RjFwYbacyPqT",
        "outputId": "47de60df-f3df-4403-deba-f1e1cfad1033"
      },
      "execution_count": null,
      "outputs": [
        {
          "output_type": "execute_result",
          "data": {
            "text/plain": [
              "Médio    0.522396\n",
              "Baixo    0.264217\n",
              "Alto     0.213387\n",
              "Name: classificacao_imovel, dtype: float64"
            ]
          },
          "metadata": {},
          "execution_count": 12
        }
      ]
    },
    {
      "cell_type": "markdown",
      "source": [
        "### One-Hot encode categorical columns/ Boolean columns to binary/ Normalize numeric columns"
      ],
      "metadata": {
        "id": "Ez6gnqsA9Y1K"
      }
    },
    {
      "cell_type": "code",
      "source": [
        "categorical_columns = []\n",
        "boolean_columns = []\n",
        "numeric_columns = []\n",
        "for x in range(len(types)):\n",
        "  match str(types[x]):\n",
        "    case 'object':\n",
        "      categorical_columns.append(types.index[x])\n",
        "    case 'bool':\n",
        "      boolean_columns.append(types.index[x])\n",
        "    case 'int64':\n",
        "      numeric_columns.append(types.index[x])\n",
        "    case 'float64':\n",
        "      numeric_columns.append(types.index[x])"
      ],
      "metadata": {
        "id": "28EnK3UrBkUj"
      },
      "execution_count": null,
      "outputs": []
    },
    {
      "cell_type": "code",
      "source": [
        "print(categorical_columns)\n",
        "print(boolean_columns)\n",
        "print(numeric_columns)"
      ],
      "metadata": {
        "colab": {
          "base_uri": "https://localhost:8080/"
        },
        "id": "17W-t9CBGt7v",
        "outputId": "77e1e3d9-5c28-49a3-834b-7fed17ac7797"
      },
      "execution_count": null,
      "outputs": [
        {
          "output_type": "stream",
          "name": "stdout",
          "text": [
            "['listing.displayAddressType', 'listing.unitTypes', 'listing.portal', 'listing.address.level', 'listing.address.precision', 'listing.address.zone', 'listing.address.state', 'listing.publicationType', 'listing.usageTypes', 'listing.pricingInfo.businessType', 'listing.pricingInfo.businessLabel', 'listing.businessTypeContext']\n",
            "['listing.acceptExchange', 'listing.isInactive', 'listing.pool', 'listing.sauna', 'listing.backyard', 'listing.garden', 'listing.barbgrill', 'listing.partyhall', 'listing.tenniscourt', 'listing.sportcourt', 'listing.bathtub', 'listing.soundproofing', 'listing.fireplace', 'listing.gym', 'listing.hottub', 'listing.furnished', 'listing.guestpark', 'listing.playground', 'listing.mountainview']\n",
            "['listing.usableAreas', 'listing.unitsOnTheFloor', 'listing.unitFloor', 'listing.parkingSpaces', 'listing.suites', 'listing.bathrooms', 'listing.totalAreas', 'listing.bedrooms']\n"
          ]
        }
      ]
    },
    {
      "cell_type": "code",
      "source": [
        "features_categorical = pd.get_dummies(features[categorical_columns])\n",
        "features_categorical_train = features_categorical.iloc[train_index]\n",
        "features_categorical_test = features_categorical.iloc[test_index]"
      ],
      "metadata": {
        "id": "InAATd3aOnqh"
      },
      "execution_count": null,
      "outputs": []
    },
    {
      "cell_type": "code",
      "source": [
        "features_boolean = features[boolean_columns].applymap(lambda x: 1 if x else 0)\n",
        "features_boolean_train = features_boolean.iloc[train_index]\n",
        "features_boolean_test = features_boolean.iloc[test_index]"
      ],
      "metadata": {
        "id": "hhgXyf4aRzVe"
      },
      "execution_count": null,
      "outputs": []
    },
    {
      "cell_type": "code",
      "source": [
        "features_numeric = features[numeric_columns]\n",
        "features_numeric_train = features_numeric.iloc[train_index]\n",
        "features_numeric_test = features_numeric.iloc[test_index]"
      ],
      "metadata": {
        "id": "e7cIzjNvWP-S"
      },
      "execution_count": null,
      "outputs": []
    },
    {
      "cell_type": "code",
      "source": [
        "scaler = StandardScaler()\n",
        "features_numeric_train_norm = pd.DataFrame(scaler.fit_transform(features_numeric_train), index = features_numeric_train.index, columns = features_numeric.columns)\n",
        "features_numeric_test_norm = pd.DataFrame(scaler.transform(features_numeric_test), index = features_numeric_test.index, columns = features_numeric.columns)"
      ],
      "metadata": {
        "id": "kXscJgL2XwXA"
      },
      "execution_count": null,
      "outputs": []
    },
    {
      "cell_type": "code",
      "source": [
        "X_train = pd.concat([features_numeric_train_norm, features_categorical_train, features_boolean_train], axis = 1)\n",
        "X_test = pd.concat([features_numeric_test_norm, features_categorical_test, features_boolean_test], axis = 1)\n",
        "y_train = target_train\n",
        "y_test = target_test"
      ],
      "metadata": {
        "id": "iGSnOoZtaVHn"
      },
      "execution_count": null,
      "outputs": []
    },
    {
      "cell_type": "markdown",
      "source": [
        "## Training simple models with full data"
      ],
      "metadata": {
        "id": "cHVZwL3Q8zlC"
      }
    },
    {
      "cell_type": "code",
      "source": [
        "def train_eval(predictor, X_train, y_train, X_test, y_test):\n",
        "  predictor.fit(X_train, y_train)\n",
        "  pred = predictor.predict(X_test)\n",
        "  print(f'Accuracy: {accuracy_score(y_test, pred)}')\n",
        "  cm = ConfusionMatrixDisplay(confusion_matrix(y_test, pred, labels = predictor.classes_), display_labels=predictor.classes_)\n",
        "  cm.plot()\n",
        "  plt.show()"
      ],
      "metadata": {
        "id": "sb3GWkRD4JTu"
      },
      "execution_count": null,
      "outputs": []
    },
    {
      "cell_type": "markdown",
      "source": [
        "### Decision Tree"
      ],
      "metadata": {
        "id": "sj_IJjlQhvaA"
      }
    },
    {
      "cell_type": "code",
      "source": [
        "DT_base = DecisionTreeClassifier(random_state=42)\n",
        "train_eval(DT_base, X_train, y_train, X_test, y_test)"
      ],
      "metadata": {
        "colab": {
          "base_uri": "https://localhost:8080/",
          "height": 466
        },
        "id": "5VP_XbJKnZQ8",
        "outputId": "2509dcff-e66e-40b2-f3f8-92b1a259131c"
      },
      "execution_count": null,
      "outputs": [
        {
          "output_type": "stream",
          "name": "stdout",
          "text": [
            "Accuracy: 0.7413185707096125\n"
          ]
        },
        {
          "output_type": "display_data",
          "data": {
            "text/plain": [
              "<Figure size 640x480 with 2 Axes>"
            ],
            "image/png": "[encoded data removed]"
          },
          "metadata": {}
        }
      ]
    },
    {
      "cell_type": "markdown",
      "source": [
        "### Logistic Regression"
      ],
      "metadata": {
        "id": "QOT-o56FhyH_"
      }
    },
    {
      "cell_type": "code",
      "source": [
        "LR_base = LogisticRegression(multi_class = 'ovr', solver = 'liblinear', random_state = 42)\n",
        "train_eval(LR_base, X_train, y_train, X_test, y_test)"
      ],
      "metadata": {
        "colab": {
          "base_uri": "https://localhost:8080/",
          "height": 466
        },
        "id": "GDUQR7nJpIct",
        "outputId": "1c1a4bdd-56b6-4958-b1e6-10256495b077"
      },
      "execution_count": null,
      "outputs": [
        {
          "output_type": "stream",
          "name": "stdout",
          "text": [
            "Accuracy: 0.7317564167086059\n"
          ]
        },
        {
          "output_type": "display_data",
          "data": {
            "text/plain": [
              "<Figure size 640x480 with 2 Axes>"
            ],
            "image/png": "[encoded data removed]"
          },
          "metadata": {}
        }
      ]
    },
    {
      "cell_type": "markdown",
      "source": [
        "### Random Forest"
      ],
      "metadata": {
        "id": "Hl9jMyEyh0AX"
      }
    },
    {
      "cell_type": "code",
      "source": [
        "RFC_base = RandomForestClassifier(random_state = 42)\n",
        "train_eval(RFC_base, X_train, y_train, X_test, y_test)"
      ],
      "metadata": {
        "colab": {
          "base_uri": "https://localhost:8080/",
          "height": 466
        },
        "id": "61O5dsycpV-e",
        "outputId": "78eda840-80b1-4898-a19e-536afab92879"
      },
      "execution_count": null,
      "outputs": [
        {
          "output_type": "stream",
          "name": "stdout",
          "text": [
            "Accuracy: 0.7996980372420734\n"
          ]
        },
        {
          "output_type": "display_data",
          "data": {
            "text/plain": [
              "<Figure size 640x480 with 2 Axes>"
            ],
            "image/png": "[encoded data removed]"
          },
          "metadata": {}
        }
      ]
    },
    {
      "cell_type": "markdown",
      "source": [
        "## Feature Selection"
      ],
      "metadata": {
        "id": "PliSzF_Q9xAx"
      }
    },
    {
      "cell_type": "code",
      "source": [
        "def make_selector(estimator, X, y):\n",
        "  selector = RFECV(estimator)\n",
        "  selector.fit(X, y)\n",
        "  return selector"
      ],
      "metadata": {
        "id": "wqrjfQl6YWSn"
      },
      "execution_count": null,
      "outputs": []
    },
    {
      "cell_type": "markdown",
      "source": [
        "### Decision Tree"
      ],
      "metadata": {
        "id": "BL3WV7MMQAo3"
      }
    },
    {
      "cell_type": "code",
      "source": [
        "selector_DT = make_selector(DT_base, X_train, y_train)\n",
        "X_train_DT = selector_DT.transform(X_train)\n",
        "X_test_DT = selector_DT.transform(X_test)\n",
        "print(f'Selected features for Decision Tree:\\n{X_train.columns[selector_DT.get_support()].values}')\n",
        "train_eval(DT_base, X_train_DT, y_train, X_test_DT, y_test)"
      ],
      "metadata": {
        "id": "fviu65hY4MiK",
        "colab": {
          "base_uri": "https://localhost:8080/",
          "height": 918
        },
        "outputId": "4ce87af7-bae5-4023-bfc2-f0fded9a2df7"
      },
      "execution_count": null,
      "outputs": [
        {
          "output_type": "stream",
          "name": "stdout",
          "text": [
            "Selected features for Decision Tree:\n",
            "['listing.usableAreas' 'listing.unitsOnTheFloor' 'listing.unitFloor'\n",
            " 'listing.parkingSpaces' 'listing.suites' 'listing.bathrooms'\n",
            " 'listing.totalAreas' 'listing.bedrooms' 'listing.displayAddressType_ALL'\n",
            " 'listing.displayAddressType_NEIGHBORHOOD'\n",
            " 'listing.displayAddressType_STREET' 'listing.unitTypes_ALLOTMENT_LAND'\n",
            " 'listing.unitTypes_APARTMENT' 'listing.unitTypes_HOME'\n",
            " 'listing.unitTypes_RESIDENTIAL_ALLOTMENT_LAND'\n",
            " 'listing.address.level_CITY' 'listing.address.level_STREET'\n",
            " 'listing.address.precision_GEOMETRIC_CENTER'\n",
            " 'listing.address.precision_RANGE_INTERPOLATED'\n",
            " 'listing.address.precision_ROOFTOP' 'listing.address.zone_Bairros'\n",
            " 'listing.address.zone_Zona Oeste' 'listing.address.zone_Zona Sul'\n",
            " 'listing.address.state_Amazonas' 'listing.address.state_Bahia'\n",
            " 'listing.address.state_Ceará' 'listing.address.state_Distrito Federal'\n",
            " 'listing.address.state_Goiás' 'listing.address.state_Maranhão'\n",
            " 'listing.address.state_Minas Gerais' 'listing.address.state_Paraíba'\n",
            " 'listing.address.state_Pernambuco'\n",
            " 'listing.address.state_Rio Grande do Sul'\n",
            " 'listing.address.state_Rio de Janeiro' 'listing.address.state_Sergipe'\n",
            " 'listing.address.state_São Paulo' 'listing.publicationType_PREMIUM'\n",
            " 'listing.publicationType_SUPER_PREMIUM' 'listing.usageTypes_RESIDENTIAL'\n",
            " 'listing.pricingInfo.businessType_SALE' 'listing.pool' 'listing.sauna'\n",
            " 'listing.garden' 'listing.barbgrill' 'listing.partyhall'\n",
            " 'listing.tenniscourt' 'listing.sportcourt' 'listing.gym'\n",
            " 'listing.furnished' 'listing.playground']\n",
            "Accuracy: 0.739305485656769\n"
          ]
        },
        {
          "output_type": "display_data",
          "data": {
            "text/plain": [
              "<Figure size 640x480 with 2 Axes>"
            ],
            "image/png": "[encoded data removed]"
          },
          "metadata": {}
        }
      ]
    },
    {
      "cell_type": "markdown",
      "source": [
        "### Logistic Regression"
      ],
      "metadata": {
        "id": "yPBmwBePcy2r"
      }
    },
    {
      "cell_type": "code",
      "source": [
        "selector_LR = make_selector(LR_base, X_train, y_train)\n",
        "X_train_LR = selector_LR.transform(X_train)\n",
        "X_test_LR = selector_LR.transform(X_test)\n",
        "print(f'Selected features for Logistic Regression:\\n{X_train.columns[selector_LR.get_support()].values}')\n",
        "train_eval(LR_base, X_train_LR, y_train, X_test_LR, y_test)"
      ],
      "metadata": {
        "colab": {
          "base_uri": "https://localhost:8080/",
          "height": 1000
        },
        "id": "LxGc1kfFc4yU",
        "outputId": "de996e9d-c2cb-40fd-dc61-a0a541dbe5d3"
      },
      "execution_count": null,
      "outputs": [
        {
          "output_type": "stream",
          "name": "stdout",
          "text": [
            "Selected features for Logistic Regression:\n",
            "['listing.usableAreas' 'listing.unitsOnTheFloor' 'listing.parkingSpaces'\n",
            " 'listing.suites' 'listing.bathrooms' 'listing.totalAreas'\n",
            " 'listing.bedrooms' 'listing.displayAddressType_ALL'\n",
            " 'listing.displayAddressType_NEIGHBORHOOD'\n",
            " 'listing.displayAddressType_STREET' 'listing.unitTypes_ALLOTMENT_LAND'\n",
            " 'listing.unitTypes_APARTMENT' 'listing.unitTypes_BUILDING'\n",
            " 'listing.unitTypes_BUSINESS'\n",
            " 'listing.unitTypes_COMMERCIAL_ALLOTMENT_LAND'\n",
            " 'listing.unitTypes_COMMERCIAL_BUILDING'\n",
            " 'listing.unitTypes_COMMERCIAL_PROPERTY' 'listing.unitTypes_CONDOMINIUM'\n",
            " 'listing.unitTypes_COUNTRY_HOUSE' 'listing.unitTypes_FARM'\n",
            " 'listing.unitTypes_FLAT' 'listing.unitTypes_HOME'\n",
            " 'listing.unitTypes_KITNET' 'listing.unitTypes_OFFICE'\n",
            " 'listing.unitTypes_PENTHOUSE'\n",
            " 'listing.unitTypes_RESIDENTIAL_ALLOTMENT_LAND'\n",
            " 'listing.unitTypes_RESIDENTIAL_BUILDING'\n",
            " 'listing.unitTypes_SHED_DEPOSIT_WAREHOUSE'\n",
            " 'listing.unitTypes_TWO_STORY_HOUSE' 'listing.unitTypes_VILLAGE_HOUSE'\n",
            " 'listing.portal_GRUPOZAP' 'listing.portal_ZAP'\n",
            " 'listing.address.level_CITY' 'listing.address.level_Level_NONE'\n",
            " 'listing.address.level_NEIGHBORHOOD' 'listing.address.level_STATE'\n",
            " 'listing.address.level_STREET' 'listing.address.precision_APPROXIMATE'\n",
            " 'listing.address.precision_GEOMETRIC_CENTER'\n",
            " 'listing.address.precision_Precision_NONE'\n",
            " 'listing.address.precision_RANGE_INTERPOLATED'\n",
            " 'listing.address.precision_ROOFTOP' 'listing.address.zone_Bairros'\n",
            " 'listing.address.zone_Centro' 'listing.address.zone_Zona Central'\n",
            " 'listing.address.zone_Zona Leste' 'listing.address.zone_Zona Norte'\n",
            " 'listing.address.zone_Zona Oeste' 'listing.address.zone_Zona Sul'\n",
            " 'listing.address.zone_normal' 'listing.address.state_Alagoas'\n",
            " 'listing.address.state_Amapá' 'listing.address.state_Amazonas'\n",
            " 'listing.address.state_Bahia' 'listing.address.state_Ceará'\n",
            " 'listing.address.state_Distrito Federal'\n",
            " 'listing.address.state_Espírito Santo' 'listing.address.state_Goiás'\n",
            " 'listing.address.state_Maranhão' 'listing.address.state_Mato Grosso'\n",
            " 'listing.address.state_Mato Grosso do Sul' 'listing.address.state_Paraná'\n",
            " 'listing.address.state_Paraíba' 'listing.address.state_Pará'\n",
            " 'listing.address.state_Pernambuco' 'listing.address.state_Piauí'\n",
            " 'listing.address.state_Rio Grande do Norte'\n",
            " 'listing.address.state_Rio Grande do Sul'\n",
            " 'listing.address.state_Rio de Janeiro' 'listing.address.state_Rondônia'\n",
            " 'listing.address.state_Roraima' 'listing.address.state_Santa Catarina'\n",
            " 'listing.address.state_Sergipe' 'listing.address.state_São Paulo'\n",
            " 'listing.address.state_Tocantins' 'listing.publicationType_PREMIERE_1'\n",
            " 'listing.publicationType_PREMIERE_2' 'listing.publicationType_PREMIUM'\n",
            " 'listing.publicationType_STANDARD'\n",
            " 'listing.publicationType_SUPER_PREMIUM' 'listing.usageTypes_COMMERCIAL'\n",
            " 'listing.usageTypes_RESIDENTIAL' 'listing.pricingInfo.businessType_SALE'\n",
            " 'listing.pricingInfo.businessType_SALE_RENTAL'\n",
            " 'listing.pricingInfo.businessLabel_Comprar'\n",
            " 'listing.pricingInfo.businessLabel_Comprar/Alugar'\n",
            " 'listing.businessTypeContext_SALE' 'listing.isInactive' 'listing.pool'\n",
            " 'listing.sauna' 'listing.backyard' 'listing.barbgrill'\n",
            " 'listing.partyhall' 'listing.tenniscourt' 'listing.sportcourt'\n",
            " 'listing.bathtub' 'listing.soundproofing' 'listing.fireplace'\n",
            " 'listing.gym' 'listing.hottub' 'listing.furnished' 'listing.guestpark'\n",
            " 'listing.playground' 'listing.mountainview']\n",
            "Accuracy: 0.7322596879718168\n"
          ]
        },
        {
          "output_type": "display_data",
          "data": {
            "text/plain": [
              "<Figure size 640x480 with 2 Axes>"
            ],
            "image/png": "[encoded data removed]"
          },
          "metadata": {}
        }
      ]
    },
    {
      "cell_type": "markdown",
      "source": [
        "### Random Forest"
      ],
      "metadata": {
        "id": "uyakguYCdIxj"
      }
    },
    {
      "cell_type": "code",
      "source": [
        "selector_RFC = make_selector(RFC_base, X_train, y_train)\n",
        "X_train_RFC = selector_RFC.transform(X_train)\n",
        "X_test_RFC = selector_RFC.transform(X_test)\n",
        "print(f'Selected features for Random Forest:\\n{X_train.columns[selector_RFC.get_support()].values}')\n",
        "train_eval(RFC_base, X_train_RFC, y_train, X_test_RFC, y_test)"
      ],
      "metadata": {
        "colab": {
          "base_uri": "https://localhost:8080/",
          "height": 1000
        },
        "id": "E0hWcT0bdMJj",
        "outputId": "78b5153e-7736-4f1d-ebdf-53302e19c03a"
      },
      "execution_count": null,
      "outputs": [
        {
          "output_type": "stream",
          "name": "stdout",
          "text": [
            "Selected features for Random Forest:\n",
            "['listing.usableAreas' 'listing.unitsOnTheFloor' 'listing.unitFloor'\n",
            " 'listing.parkingSpaces' 'listing.suites' 'listing.bathrooms'\n",
            " 'listing.totalAreas' 'listing.bedrooms' 'listing.displayAddressType_ALL'\n",
            " 'listing.displayAddressType_NEIGHBORHOOD'\n",
            " 'listing.displayAddressType_STREET' 'listing.unitTypes_ALLOTMENT_LAND'\n",
            " 'listing.unitTypes_APARTMENT' 'listing.unitTypes_COMMERCIAL_PROPERTY'\n",
            " 'listing.unitTypes_CONDOMINIUM' 'listing.unitTypes_HOME'\n",
            " 'listing.unitTypes_OFFICE' 'listing.unitTypes_PENTHOUSE'\n",
            " 'listing.unitTypes_RESIDENTIAL_ALLOTMENT_LAND' 'listing.portal_GRUPOZAP'\n",
            " 'listing.portal_ZAP' 'listing.address.level_CITY'\n",
            " 'listing.address.level_NEIGHBORHOOD' 'listing.address.level_STREET'\n",
            " 'listing.address.precision_APPROXIMATE'\n",
            " 'listing.address.precision_GEOMETRIC_CENTER'\n",
            " 'listing.address.precision_Precision_NONE'\n",
            " 'listing.address.precision_RANGE_INTERPOLATED'\n",
            " 'listing.address.precision_ROOFTOP' 'listing.address.zone_Bairros'\n",
            " 'listing.address.zone_Centro' 'listing.address.zone_Zona Leste'\n",
            " 'listing.address.zone_Zona Norte' 'listing.address.zone_Zona Oeste'\n",
            " 'listing.address.zone_Zona Sul' 'listing.address.state_Amazonas'\n",
            " 'listing.address.state_Bahia' 'listing.address.state_Ceará'\n",
            " 'listing.address.state_Distrito Federal'\n",
            " 'listing.address.state_Espírito Santo' 'listing.address.state_Goiás'\n",
            " 'listing.address.state_Maranhão' 'listing.address.state_Minas Gerais'\n",
            " 'listing.address.state_Paraná' 'listing.address.state_Paraíba'\n",
            " 'listing.address.state_Pernambuco' 'listing.address.state_Piauí'\n",
            " 'listing.address.state_Rio Grande do Sul'\n",
            " 'listing.address.state_Rio de Janeiro'\n",
            " 'listing.address.state_Santa Catarina' 'listing.address.state_Sergipe'\n",
            " 'listing.address.state_São Paulo' 'listing.publicationType_PREMIUM'\n",
            " 'listing.publicationType_STANDARD'\n",
            " 'listing.publicationType_SUPER_PREMIUM' 'listing.usageTypes_COMMERCIAL'\n",
            " 'listing.usageTypes_RESIDENTIAL' 'listing.pricingInfo.businessType_SALE'\n",
            " 'listing.pricingInfo.businessType_SALE_RENTAL'\n",
            " 'listing.pricingInfo.businessLabel_Comprar'\n",
            " 'listing.pricingInfo.businessLabel_Comprar/Alugar' 'listing.pool'\n",
            " 'listing.sauna' 'listing.backyard' 'listing.garden' 'listing.barbgrill'\n",
            " 'listing.partyhall' 'listing.tenniscourt' 'listing.sportcourt'\n",
            " 'listing.fireplace' 'listing.gym' 'listing.furnished'\n",
            " 'listing.playground']\n",
            "Accuracy: 0.8007045797684952\n"
          ]
        },
        {
          "output_type": "display_data",
          "data": {
            "text/plain": [
              "<Figure size 640x480 with 2 Axes>"
            ],
            "image/png": "[encoded data removed]"
          },
          "metadata": {}
        }
      ]
    }
  ],
  "metadata": {
    "colab": {
      "collapsed_sections": [
        "dP_Ss90c6WyS",
        "9UPm0Wzv6cia",
        "fmzlpo4ZC9rp",
        "MIFC2Wejmcsx",
        "W1JAf3b-mfIQ",
        "NnU1BkWfmikR",
        "lGUfsKUdmnNw",
        "ZOQ60aZ9mpuw"
      ],
      "provenance": []
    },
    "kernelspec": {
      "display_name": "Python 3",
      "name": "python3"
    },
    "language_info": {
      "name": "python"
    }
  },
  "nbformat": 4,
  "nbformat_minor": 0
}